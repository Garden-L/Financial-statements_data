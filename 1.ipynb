{
 "metadata": {
  "language_info": {
   "codemirror_mode": {
    "name": "ipython",
    "version": 3
   },
   "file_extension": ".py",
   "mimetype": "text/x-python",
   "name": "python",
   "nbconvert_exporter": "python",
   "pygments_lexer": "ipython3",
   "version": "3.8.3-final"
  },
  "orig_nbformat": 2,
  "kernelspec": {
   "name": "python3",
   "display_name": "Python 3"
  }
 },
 "nbformat": 4,
 "nbformat_minor": 2,
 "cells": [
  {
   "cell_type": "code",
   "execution_count": 3,
   "metadata": {},
   "outputs": [],
   "source": [
    "from jamu import jamu"
   ]
  },
  {
   "cell_type": "code",
   "execution_count": 4,
   "metadata": {},
   "outputs": [],
   "source": [
    "test = jamu()"
   ]
  },
  {
   "cell_type": "code",
   "execution_count": 7,
   "metadata": {},
   "outputs": [],
   "source": [
    "df=test.mergeJamu"
   ]
  },
  {
   "cell_type": "code",
   "execution_count": 22,
   "metadata": {},
   "outputs": [],
   "source": [
    "rf=df[df['항목코드'].str.contains(r'^(ifrs|dart)')].copy()"
   ]
  },
  {
   "cell_type": "code",
   "execution_count": 21,
   "metadata": {},
   "outputs": [
    {
     "output_type": "execute_result",
     "data": {
      "text/plain": [
       "55317"
      ]
     },
     "metadata": {},
     "execution_count": 21
    }
   ],
   "source": [
    "len(rf)"
   ]
  },
  {
   "cell_type": "code",
   "execution_count": 26,
   "metadata": {},
   "outputs": [],
   "source": [
    "rf.drop_duplicates('항목명')\n",
    "ef = rf.drop_duplicates('항목명')[['항목코드','항목명']].copy()"
   ]
  },
  {
   "cell_type": "code",
   "execution_count": 27,
   "metadata": {},
   "outputs": [
    {
     "output_type": "execute_result",
     "data": {
      "text/plain": [
       "                                                    항목코드  \\\n",
       "0                               dart_OperatingIncomeLoss   \n",
       "1      dart_OtherComprehensiveIncomeThatWillBeReclass...   \n",
       "2                                        dart_OtherGains   \n",
       "3                                       dart_OtherLosses   \n",
       "4         dart_TotalSellingGeneralAdministrativeExpenses   \n",
       "...                                                  ...   \n",
       "60784              ifrs-full_DilutedEarningsLossPerShare   \n",
       "60856                            ifrs-full_FinanceIncome   \n",
       "60957  ifrs-full_OtherComprehensiveIncomeNetOfTaxGain...   \n",
       "61055  dart_OtherComprehensiveIncomeThatWillBeReclass...   \n",
       "61056  dart_OtherComprehensiveIncomeThatWillNotBeRecl...   \n",
       "\n",
       "                           항목명  \n",
       "0                     영업이익(손실)  \n",
       "1         후속적으로당기손익으로재분류될수있는항목  \n",
       "2                      기타영업외이익  \n",
       "3                      기타영업외비용  \n",
       "4                      판매비와관리비  \n",
       "...                        ...  \n",
       "60784           계속기업희석주당이익(손실)  \n",
       "60856                금융수익-이자수익  \n",
       "60957    기타포괄손익-공정가치측정금융자산처분이익  \n",
       "61055    (1)후속적으로당기손익으로재분류되는항목  \n",
       "61056  (2)후속적으로당기손익으로재분류되지않는항목  \n",
       "\n",
       "[2020 rows x 2 columns]"
      ],
      "text/html": "<div>\n<style scoped>\n    .dataframe tbody tr th:only-of-type {\n        vertical-align: middle;\n    }\n\n    .dataframe tbody tr th {\n        vertical-align: top;\n    }\n\n    .dataframe thead th {\n        text-align: right;\n    }\n</style>\n<table border=\"1\" class=\"dataframe\">\n  <thead>\n    <tr style=\"text-align: right;\">\n      <th></th>\n      <th>항목코드</th>\n      <th>항목명</th>\n    </tr>\n  </thead>\n  <tbody>\n    <tr>\n      <th>0</th>\n      <td>dart_OperatingIncomeLoss</td>\n      <td>영업이익(손실)</td>\n    </tr>\n    <tr>\n      <th>1</th>\n      <td>dart_OtherComprehensiveIncomeThatWillBeReclass...</td>\n      <td>후속적으로당기손익으로재분류될수있는항목</td>\n    </tr>\n    <tr>\n      <th>2</th>\n      <td>dart_OtherGains</td>\n      <td>기타영업외이익</td>\n    </tr>\n    <tr>\n      <th>3</th>\n      <td>dart_OtherLosses</td>\n      <td>기타영업외비용</td>\n    </tr>\n    <tr>\n      <th>4</th>\n      <td>dart_TotalSellingGeneralAdministrativeExpenses</td>\n      <td>판매비와관리비</td>\n    </tr>\n    <tr>\n      <th>...</th>\n      <td>...</td>\n      <td>...</td>\n    </tr>\n    <tr>\n      <th>60784</th>\n      <td>ifrs-full_DilutedEarningsLossPerShare</td>\n      <td>계속기업희석주당이익(손실)</td>\n    </tr>\n    <tr>\n      <th>60856</th>\n      <td>ifrs-full_FinanceIncome</td>\n      <td>금융수익-이자수익</td>\n    </tr>\n    <tr>\n      <th>60957</th>\n      <td>ifrs-full_OtherComprehensiveIncomeNetOfTaxGain...</td>\n      <td>기타포괄손익-공정가치측정금융자산처분이익</td>\n    </tr>\n    <tr>\n      <th>61055</th>\n      <td>dart_OtherComprehensiveIncomeThatWillBeReclass...</td>\n      <td>(1)후속적으로당기손익으로재분류되는항목</td>\n    </tr>\n    <tr>\n      <th>61056</th>\n      <td>dart_OtherComprehensiveIncomeThatWillNotBeRecl...</td>\n      <td>(2)후속적으로당기손익으로재분류되지않는항목</td>\n    </tr>\n  </tbody>\n</table>\n<p>2020 rows × 2 columns</p>\n</div>"
     },
     "metadata": {},
     "execution_count": 27
    }
   ],
   "source": [
    "ef"
   ]
  },
  {
   "cell_type": "code",
   "execution_count": 30,
   "metadata": {},
   "outputs": [],
   "source": [
    "cf=df[df['항목코드'].str.contains(r'^(entity)')]"
   ]
  },
  {
   "cell_type": "code",
   "execution_count": 49,
   "metadata": {},
   "outputs": [
    {
     "output_type": "execute_result",
     "data": {
      "text/plain": [
       "          회사명        시장구분   업종              업종명  결산월       결산기준일   보고서종류   통화  \\\n",
       "5          3S   코스닥시장상장법인  292    특수 목적용 기계 제조업    3  2020-06-30  1분기보고서  KRW   \n",
       "6          3S   코스닥시장상장법인  292    특수 목적용 기계 제조업    3  2020-06-30  1분기보고서  KRW   \n",
       "7          3S   코스닥시장상장법인  292    특수 목적용 기계 제조업    3  2020-06-30  1분기보고서  KRW   \n",
       "8          3S   코스닥시장상장법인  292    특수 목적용 기계 제조업    3  2020-06-30  1분기보고서  KRW   \n",
       "32     AJ네트웍스  유가증권시장상장법인  763  산업용 기계 및 장비 임대업   12  2020-03-31  1분기보고서  KRW   \n",
       "...       ...         ...  ...              ...  ...         ...     ...  ...   \n",
       "61370      힘스   코스닥시장상장법인  292    특수 목적용 기계 제조업   12  2020-03-31  1분기보고서  KRW   \n",
       "61371      힘스   코스닥시장상장법인  292    특수 목적용 기계 제조업   12  2020-03-31  1분기보고서  KRW   \n",
       "61372      힘스   코스닥시장상장법인  292    특수 목적용 기계 제조업   12  2020-03-31  1분기보고서  KRW   \n",
       "61373      힘스   코스닥시장상장법인  292    특수 목적용 기계 제조업   12  2020-03-31  1분기보고서  KRW   \n",
       "61374      힘스   코스닥시장상장법인  292    특수 목적용 기계 제조업   12  2020-03-31  1분기보고서  KRW   \n",
       "\n",
       "                 항목코드                  항목명 당기 1분기 3개월_0 당기 1분기 3개월_1  \\\n",
       "5      entity00378363             관계기업투자이익          NaN          NaN   \n",
       "6      entity00378363                  관리비          NaN          NaN   \n",
       "7      entity00378363  당기손익으로재분류될수있는항목의법인세          NaN          NaN   \n",
       "8      entity00378363                  판매비          NaN          NaN   \n",
       "32     entity00365387          (부의)지분법자본변동          NaN          NaN   \n",
       "...               ...                  ...          ...          ...   \n",
       "61370  entity00556712              기타영업외수익          NaN          NaN   \n",
       "61371  entity00556712                  매출액          NaN          NaN   \n",
       "61372  entity00556712                 매출원가          NaN          NaN   \n",
       "61373  entity00556712                매출총이익          NaN          NaN   \n",
       "61374  entity00556712              판매비와관리비          NaN          NaN   \n",
       "\n",
       "         당기 1분기 3개월_0  당기 1분기 3개월_1  \n",
       "5                 NaN             0  \n",
       "6         512,891,116  -645,411,094  \n",
       "7                   0     4,080,454  \n",
       "8         146,452,111  -155,005,674  \n",
       "32       -134,644,328           NaN  \n",
       "...               ...           ...  \n",
       "61370      17,239,020           NaN  \n",
       "61371  31,714,959,185           NaN  \n",
       "61372  13,742,414,450           NaN  \n",
       "61373  17,972,544,735           NaN  \n",
       "61374   6,875,448,167           NaN  \n",
       "\n",
       "[6068 rows x 14 columns]"
      ],
      "text/html": "<div>\n<style scoped>\n    .dataframe tbody tr th:only-of-type {\n        vertical-align: middle;\n    }\n\n    .dataframe tbody tr th {\n        vertical-align: top;\n    }\n\n    .dataframe thead th {\n        text-align: right;\n    }\n</style>\n<table border=\"1\" class=\"dataframe\">\n  <thead>\n    <tr style=\"text-align: right;\">\n      <th></th>\n      <th>회사명</th>\n      <th>시장구분</th>\n      <th>업종</th>\n      <th>업종명</th>\n      <th>결산월</th>\n      <th>결산기준일</th>\n      <th>보고서종류</th>\n      <th>통화</th>\n      <th>항목코드</th>\n      <th>항목명</th>\n      <th>당기 1분기 3개월_0</th>\n      <th>당기 1분기 3개월_1</th>\n      <th>당기 1분기 3개월_0</th>\n      <th>당기 1분기 3개월_1</th>\n    </tr>\n  </thead>\n  <tbody>\n    <tr>\n      <th>5</th>\n      <td>3S</td>\n      <td>코스닥시장상장법인</td>\n      <td>292</td>\n      <td>특수 목적용 기계 제조업</td>\n      <td>3</td>\n      <td>2020-06-30</td>\n      <td>1분기보고서</td>\n      <td>KRW</td>\n      <td>entity00378363</td>\n      <td>관계기업투자이익</td>\n      <td>NaN</td>\n      <td>NaN</td>\n      <td>NaN</td>\n      <td>0</td>\n    </tr>\n    <tr>\n      <th>6</th>\n      <td>3S</td>\n      <td>코스닥시장상장법인</td>\n      <td>292</td>\n      <td>특수 목적용 기계 제조업</td>\n      <td>3</td>\n      <td>2020-06-30</td>\n      <td>1분기보고서</td>\n      <td>KRW</td>\n      <td>entity00378363</td>\n      <td>관리비</td>\n      <td>NaN</td>\n      <td>NaN</td>\n      <td>512,891,116</td>\n      <td>-645,411,094</td>\n    </tr>\n    <tr>\n      <th>7</th>\n      <td>3S</td>\n      <td>코스닥시장상장법인</td>\n      <td>292</td>\n      <td>특수 목적용 기계 제조업</td>\n      <td>3</td>\n      <td>2020-06-30</td>\n      <td>1분기보고서</td>\n      <td>KRW</td>\n      <td>entity00378363</td>\n      <td>당기손익으로재분류될수있는항목의법인세</td>\n      <td>NaN</td>\n      <td>NaN</td>\n      <td>0</td>\n      <td>4,080,454</td>\n    </tr>\n    <tr>\n      <th>8</th>\n      <td>3S</td>\n      <td>코스닥시장상장법인</td>\n      <td>292</td>\n      <td>특수 목적용 기계 제조업</td>\n      <td>3</td>\n      <td>2020-06-30</td>\n      <td>1분기보고서</td>\n      <td>KRW</td>\n      <td>entity00378363</td>\n      <td>판매비</td>\n      <td>NaN</td>\n      <td>NaN</td>\n      <td>146,452,111</td>\n      <td>-155,005,674</td>\n    </tr>\n    <tr>\n      <th>32</th>\n      <td>AJ네트웍스</td>\n      <td>유가증권시장상장법인</td>\n      <td>763</td>\n      <td>산업용 기계 및 장비 임대업</td>\n      <td>12</td>\n      <td>2020-03-31</td>\n      <td>1분기보고서</td>\n      <td>KRW</td>\n      <td>entity00365387</td>\n      <td>(부의)지분법자본변동</td>\n      <td>NaN</td>\n      <td>NaN</td>\n      <td>-134,644,328</td>\n      <td>NaN</td>\n    </tr>\n    <tr>\n      <th>...</th>\n      <td>...</td>\n      <td>...</td>\n      <td>...</td>\n      <td>...</td>\n      <td>...</td>\n      <td>...</td>\n      <td>...</td>\n      <td>...</td>\n      <td>...</td>\n      <td>...</td>\n      <td>...</td>\n      <td>...</td>\n      <td>...</td>\n      <td>...</td>\n    </tr>\n    <tr>\n      <th>61370</th>\n      <td>힘스</td>\n      <td>코스닥시장상장법인</td>\n      <td>292</td>\n      <td>특수 목적용 기계 제조업</td>\n      <td>12</td>\n      <td>2020-03-31</td>\n      <td>1분기보고서</td>\n      <td>KRW</td>\n      <td>entity00556712</td>\n      <td>기타영업외수익</td>\n      <td>NaN</td>\n      <td>NaN</td>\n      <td>17,239,020</td>\n      <td>NaN</td>\n    </tr>\n    <tr>\n      <th>61371</th>\n      <td>힘스</td>\n      <td>코스닥시장상장법인</td>\n      <td>292</td>\n      <td>특수 목적용 기계 제조업</td>\n      <td>12</td>\n      <td>2020-03-31</td>\n      <td>1분기보고서</td>\n      <td>KRW</td>\n      <td>entity00556712</td>\n      <td>매출액</td>\n      <td>NaN</td>\n      <td>NaN</td>\n      <td>31,714,959,185</td>\n      <td>NaN</td>\n    </tr>\n    <tr>\n      <th>61372</th>\n      <td>힘스</td>\n      <td>코스닥시장상장법인</td>\n      <td>292</td>\n      <td>특수 목적용 기계 제조업</td>\n      <td>12</td>\n      <td>2020-03-31</td>\n      <td>1분기보고서</td>\n      <td>KRW</td>\n      <td>entity00556712</td>\n      <td>매출원가</td>\n      <td>NaN</td>\n      <td>NaN</td>\n      <td>13,742,414,450</td>\n      <td>NaN</td>\n    </tr>\n    <tr>\n      <th>61373</th>\n      <td>힘스</td>\n      <td>코스닥시장상장법인</td>\n      <td>292</td>\n      <td>특수 목적용 기계 제조업</td>\n      <td>12</td>\n      <td>2020-03-31</td>\n      <td>1분기보고서</td>\n      <td>KRW</td>\n      <td>entity00556712</td>\n      <td>매출총이익</td>\n      <td>NaN</td>\n      <td>NaN</td>\n      <td>17,972,544,735</td>\n      <td>NaN</td>\n    </tr>\n    <tr>\n      <th>61374</th>\n      <td>힘스</td>\n      <td>코스닥시장상장법인</td>\n      <td>292</td>\n      <td>특수 목적용 기계 제조업</td>\n      <td>12</td>\n      <td>2020-03-31</td>\n      <td>1분기보고서</td>\n      <td>KRW</td>\n      <td>entity00556712</td>\n      <td>판매비와관리비</td>\n      <td>NaN</td>\n      <td>NaN</td>\n      <td>6,875,448,167</td>\n      <td>NaN</td>\n    </tr>\n  </tbody>\n</table>\n<p>6068 rows × 14 columns</p>\n</div>"
     },
     "metadata": {},
     "execution_count": 49
    }
   ],
   "source": [
    "cf"
   ]
  },
  {
   "cell_type": "code",
   "execution_count": 32,
   "metadata": {},
   "outputs": [
    {
     "output_type": "error",
     "ename": "NameError",
     "evalue": "name '명' is not defined",
     "traceback": [
      "\u001b[1;31m---------------------------------------------------------------------------\u001b[0m",
      "\u001b[1;31mNameError\u001b[0m                                 Traceback (most recent call last)",
      "\u001b[1;32m<ipython-input-32-d6856fffba7e>\u001b[0m in \u001b[0;36m<module>\u001b[1;34m\u001b[0m\n\u001b[1;32m----> 1\u001b[1;33m \u001b[0m명\u001b[0m\u001b[1;33m\u001b[0m\u001b[1;33m\u001b[0m\u001b[0m\n\u001b[0m",
      "\u001b[1;31mNameError\u001b[0m: name '명' is not defined"
     ]
    }
   ],
   "source": []
  },
  {
   "cell_type": "code",
   "execution_count": 36,
   "metadata": {},
   "outputs": [
    {
     "output_type": "execute_result",
     "data": {
      "text/plain": [
       "          회사명        시장구분   업종                       업종명  결산월       결산기준일  \\\n",
       "23         3S   코스닥시장상장법인  292             특수 목적용 기계 제조업    3  2020-06-30   \n",
       "55     AJ네트웍스  유가증권시장상장법인  763           산업용 기계 및 장비 임대업   12  2020-03-31   \n",
       "91      AK홀딩스  유가증권시장상장법인  649                    기타 금융업   12  2020-03-31   \n",
       "125    APS홀딩스   코스닥시장상장법인  649                    기타 금융업   12  2020-03-31   \n",
       "156     AP시스템   코스닥시장상장법인  292             특수 목적용 기계 제조업   12  2020-03-31   \n",
       "...       ...         ...  ...                       ...  ...         ...   \n",
       "61263      흥국   코스닥시장상장법인  292             특수 목적용 기계 제조업   12  2020-03-31   \n",
       "61292  흥국에프엔비   코스닥시장상장법인  112           비알코올음료 및 얼음 제조업   12  2020-03-31   \n",
       "61331    흥아해운  유가증권시장상장법인  501                    해상 운송업   12  2020-03-31   \n",
       "61360      희림   코스닥시장상장법인  721  건축기술, 엔지니어링 및 관련 기술 서비스업   12  2020-03-31   \n",
       "61383      힘스   코스닥시장상장법인  292             특수 목적용 기계 제조업   12  2020-03-31   \n",
       "\n",
       "        보고서종류   통화                  항목코드        항목명 당기 1분기 3개월_0 당기 1분기 3개월_1  \\\n",
       "23     1분기보고서  KRW  ifrs-full_ProfitLoss      분기순이익          NaN          NaN   \n",
       "55     1분기보고서  KRW  ifrs-full_ProfitLoss  당기순이익(손실)          NaN          NaN   \n",
       "91     1분기보고서  KRW  ifrs-full_ProfitLoss  당기순이익(손실)          NaN          NaN   \n",
       "125    1분기보고서  KRW  ifrs-full_ProfitLoss  당기순이익(손실)          NaN          NaN   \n",
       "156    1분기보고서  KRW  ifrs-full_ProfitLoss  당기순이익(손실)          NaN          NaN   \n",
       "...       ...  ...                   ...        ...          ...          ...   \n",
       "61263  1분기보고서  KRW  ifrs-full_ProfitLoss  당기순이익(손실)          NaN          NaN   \n",
       "61292  1분기보고서  KRW  ifrs-full_ProfitLoss  당기순이익(손실)          NaN          NaN   \n",
       "61331  1분기보고서  KRW  ifrs-full_ProfitLoss  당기순이익(손실)          NaN          NaN   \n",
       "61360  1분기보고서  KRW  ifrs-full_ProfitLoss  당기순이익(손실)          NaN          NaN   \n",
       "61383  1분기보고서  KRW  ifrs-full_ProfitLoss  당기순이익(손실)          NaN          NaN   \n",
       "\n",
       "         당기 1분기 3개월_0     당기 1분기 3개월_1  \n",
       "23       -514,741,377     -467,299,923  \n",
       "55       -113,230,171    2,015,671,973  \n",
       "91     16,718,068,276  -84,173,432,426  \n",
       "125    -1,487,461,711     -599,659,468  \n",
       "156     7,920,112,710    8,211,291,126  \n",
       "...               ...              ...  \n",
       "61263   2,556,346,075    2,904,413,609  \n",
       "61292     347,405,877     -386,426,322  \n",
       "61331   4,194,012,390   -2,452,718,384  \n",
       "61360     341,453,948       97,668,321  \n",
       "61383   8,840,394,543              NaN  \n",
       "\n",
       "[2074 rows x 14 columns]"
      ],
      "text/html": "<div>\n<style scoped>\n    .dataframe tbody tr th:only-of-type {\n        vertical-align: middle;\n    }\n\n    .dataframe tbody tr th {\n        vertical-align: top;\n    }\n\n    .dataframe thead th {\n        text-align: right;\n    }\n</style>\n<table border=\"1\" class=\"dataframe\">\n  <thead>\n    <tr style=\"text-align: right;\">\n      <th></th>\n      <th>회사명</th>\n      <th>시장구분</th>\n      <th>업종</th>\n      <th>업종명</th>\n      <th>결산월</th>\n      <th>결산기준일</th>\n      <th>보고서종류</th>\n      <th>통화</th>\n      <th>항목코드</th>\n      <th>항목명</th>\n      <th>당기 1분기 3개월_0</th>\n      <th>당기 1분기 3개월_1</th>\n      <th>당기 1분기 3개월_0</th>\n      <th>당기 1분기 3개월_1</th>\n    </tr>\n  </thead>\n  <tbody>\n    <tr>\n      <th>23</th>\n      <td>3S</td>\n      <td>코스닥시장상장법인</td>\n      <td>292</td>\n      <td>특수 목적용 기계 제조업</td>\n      <td>3</td>\n      <td>2020-06-30</td>\n      <td>1분기보고서</td>\n      <td>KRW</td>\n      <td>ifrs-full_ProfitLoss</td>\n      <td>분기순이익</td>\n      <td>NaN</td>\n      <td>NaN</td>\n      <td>-514,741,377</td>\n      <td>-467,299,923</td>\n    </tr>\n    <tr>\n      <th>55</th>\n      <td>AJ네트웍스</td>\n      <td>유가증권시장상장법인</td>\n      <td>763</td>\n      <td>산업용 기계 및 장비 임대업</td>\n      <td>12</td>\n      <td>2020-03-31</td>\n      <td>1분기보고서</td>\n      <td>KRW</td>\n      <td>ifrs-full_ProfitLoss</td>\n      <td>당기순이익(손실)</td>\n      <td>NaN</td>\n      <td>NaN</td>\n      <td>-113,230,171</td>\n      <td>2,015,671,973</td>\n    </tr>\n    <tr>\n      <th>91</th>\n      <td>AK홀딩스</td>\n      <td>유가증권시장상장법인</td>\n      <td>649</td>\n      <td>기타 금융업</td>\n      <td>12</td>\n      <td>2020-03-31</td>\n      <td>1분기보고서</td>\n      <td>KRW</td>\n      <td>ifrs-full_ProfitLoss</td>\n      <td>당기순이익(손실)</td>\n      <td>NaN</td>\n      <td>NaN</td>\n      <td>16,718,068,276</td>\n      <td>-84,173,432,426</td>\n    </tr>\n    <tr>\n      <th>125</th>\n      <td>APS홀딩스</td>\n      <td>코스닥시장상장법인</td>\n      <td>649</td>\n      <td>기타 금융업</td>\n      <td>12</td>\n      <td>2020-03-31</td>\n      <td>1분기보고서</td>\n      <td>KRW</td>\n      <td>ifrs-full_ProfitLoss</td>\n      <td>당기순이익(손실)</td>\n      <td>NaN</td>\n      <td>NaN</td>\n      <td>-1,487,461,711</td>\n      <td>-599,659,468</td>\n    </tr>\n    <tr>\n      <th>156</th>\n      <td>AP시스템</td>\n      <td>코스닥시장상장법인</td>\n      <td>292</td>\n      <td>특수 목적용 기계 제조업</td>\n      <td>12</td>\n      <td>2020-03-31</td>\n      <td>1분기보고서</td>\n      <td>KRW</td>\n      <td>ifrs-full_ProfitLoss</td>\n      <td>당기순이익(손실)</td>\n      <td>NaN</td>\n      <td>NaN</td>\n      <td>7,920,112,710</td>\n      <td>8,211,291,126</td>\n    </tr>\n    <tr>\n      <th>...</th>\n      <td>...</td>\n      <td>...</td>\n      <td>...</td>\n      <td>...</td>\n      <td>...</td>\n      <td>...</td>\n      <td>...</td>\n      <td>...</td>\n      <td>...</td>\n      <td>...</td>\n      <td>...</td>\n      <td>...</td>\n      <td>...</td>\n      <td>...</td>\n    </tr>\n    <tr>\n      <th>61263</th>\n      <td>흥국</td>\n      <td>코스닥시장상장법인</td>\n      <td>292</td>\n      <td>특수 목적용 기계 제조업</td>\n      <td>12</td>\n      <td>2020-03-31</td>\n      <td>1분기보고서</td>\n      <td>KRW</td>\n      <td>ifrs-full_ProfitLoss</td>\n      <td>당기순이익(손실)</td>\n      <td>NaN</td>\n      <td>NaN</td>\n      <td>2,556,346,075</td>\n      <td>2,904,413,609</td>\n    </tr>\n    <tr>\n      <th>61292</th>\n      <td>흥국에프엔비</td>\n      <td>코스닥시장상장법인</td>\n      <td>112</td>\n      <td>비알코올음료 및 얼음 제조업</td>\n      <td>12</td>\n      <td>2020-03-31</td>\n      <td>1분기보고서</td>\n      <td>KRW</td>\n      <td>ifrs-full_ProfitLoss</td>\n      <td>당기순이익(손실)</td>\n      <td>NaN</td>\n      <td>NaN</td>\n      <td>347,405,877</td>\n      <td>-386,426,322</td>\n    </tr>\n    <tr>\n      <th>61331</th>\n      <td>흥아해운</td>\n      <td>유가증권시장상장법인</td>\n      <td>501</td>\n      <td>해상 운송업</td>\n      <td>12</td>\n      <td>2020-03-31</td>\n      <td>1분기보고서</td>\n      <td>KRW</td>\n      <td>ifrs-full_ProfitLoss</td>\n      <td>당기순이익(손실)</td>\n      <td>NaN</td>\n      <td>NaN</td>\n      <td>4,194,012,390</td>\n      <td>-2,452,718,384</td>\n    </tr>\n    <tr>\n      <th>61360</th>\n      <td>희림</td>\n      <td>코스닥시장상장법인</td>\n      <td>721</td>\n      <td>건축기술, 엔지니어링 및 관련 기술 서비스업</td>\n      <td>12</td>\n      <td>2020-03-31</td>\n      <td>1분기보고서</td>\n      <td>KRW</td>\n      <td>ifrs-full_ProfitLoss</td>\n      <td>당기순이익(손실)</td>\n      <td>NaN</td>\n      <td>NaN</td>\n      <td>341,453,948</td>\n      <td>97,668,321</td>\n    </tr>\n    <tr>\n      <th>61383</th>\n      <td>힘스</td>\n      <td>코스닥시장상장법인</td>\n      <td>292</td>\n      <td>특수 목적용 기계 제조업</td>\n      <td>12</td>\n      <td>2020-03-31</td>\n      <td>1분기보고서</td>\n      <td>KRW</td>\n      <td>ifrs-full_ProfitLoss</td>\n      <td>당기순이익(손실)</td>\n      <td>NaN</td>\n      <td>NaN</td>\n      <td>8,840,394,543</td>\n      <td>NaN</td>\n    </tr>\n  </tbody>\n</table>\n<p>2074 rows × 14 columns</p>\n</div>"
     },
     "metadata": {},
     "execution_count": 36
    }
   ],
   "source": [
    "df[df['항목코드']=='ifrs-full_ProfitLossAttributableToOwnersOfParent']"
   ]
  },
  {
   "cell_type": "code",
   "execution_count": 52,
   "metadata": {},
   "outputs": [],
   "source": [
    "wf=df[df['항목코드'].str.contains(r'^entity')].set_index('항목명')"
   ]
  },
  {
   "cell_type": "code",
   "execution_count": 59,
   "metadata": {},
   "outputs": [],
   "source": [
    "wf.update(rf)"
   ]
  },
  {
   "cell_type": "code",
   "execution_count": 57,
   "metadata": {},
   "outputs": [],
   "source": [
    "rf=ef.set_index('항목명')"
   ]
  },
  {
   "cell_type": "code",
   "execution_count": 61,
   "metadata": {},
   "outputs": [],
   "source": [
    "wf.to_csv(\"ㅈㄹㅈㄹㅈ.csv\", encoding='cp949')"
   ]
  },
  {
   "cell_type": "code",
   "execution_count": null,
   "metadata": {},
   "outputs": [],
   "source": []
  }
 ]
}