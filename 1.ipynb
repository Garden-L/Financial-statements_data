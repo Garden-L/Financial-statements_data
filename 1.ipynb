{
 "metadata": {
  "language_info": {
   "codemirror_mode": {
    "name": "ipython",
    "version": 3
   },
   "file_extension": ".py",
   "mimetype": "text/x-python",
   "name": "python",
   "nbconvert_exporter": "python",
   "pygments_lexer": "ipython3",
   "version": "3.8.3-final"
  },
  "orig_nbformat": 2,
  "kernelspec": {
   "name": "python3",
   "display_name": "Python 3"
  }
 },
 "nbformat": 4,
 "nbformat_minor": 2,
 "cells": [
  {
   "cell_type": "code",
   "execution_count": 3,
   "metadata": {},
   "outputs": [],
   "source": [
    "from jamu import jamu"
   ]
  },
  {
   "cell_type": "code",
   "execution_count": 4,
   "metadata": {},
   "outputs": [],
   "source": [
    "test = jamu()"
   ]
  },
  {
   "cell_type": "code",
   "execution_count": 7,
   "metadata": {},
   "outputs": [],
   "source": [
    "df=test.mergeJamu"
   ]
  },
  {
   "cell_type": "code",
   "execution_count": 22,
   "metadata": {},
   "outputs": [],
   "source": [
    "rf=df[df['항목코드'].str.contains(r'^(ifrs|dart)')].copy()"
   ]
  },
  {
   "cell_type": "code",
   "execution_count": 21,
   "metadata": {},
   "outputs": [
    {
     "output_type": "execute_result",
     "data": {
      "text/plain": [
       "55317"
      ]
     },
     "metadata": {},
     "execution_count": 21
    }
   ],
   "source": [
    "len(rf)"
   ]
  },
  {
   "cell_type": "code",
   "execution_count": 26,
   "metadata": {},
   "outputs": [],
   "source": [
    "rf.drop_duplicates('항목명')\n",
    "ef = rf.drop_duplicates('항목명')[['항목코드','항목명']].copy()"
   ]
  },
  {
   "cell_type": "code",
   "execution_count": 27,
   "metadata": {},
   "outputs": [
    {
     "output_type": "execute_result",
     "data": {
      "text/plain": [
       "                                                    항목코드  \\\n",
       "0                               dart_OperatingIncomeLoss   \n",
       "1      dart_OtherComprehensiveIncomeThatWillBeReclass...   \n",
       "2                                        dart_OtherGains   \n",
       "3                                       dart_OtherLosses   \n",
       "4         dart_TotalSellingGeneralAdministrativeExpenses   \n",
       "...                                                  ...   \n",
       "60784              ifrs-full_DilutedEarningsLossPerShare   \n",
       "60856                            ifrs-full_FinanceIncome   \n",
       "60957  ifrs-full_OtherComprehensiveIncomeNetOfTaxGain...   \n",
       "61055  dart_OtherComprehensiveIncomeThatWillBeReclass...   \n",
       "61056  dart_OtherComprehensiveIncomeThatWillNotBeRecl...   \n",
       "\n",
       "                           항목명  \n",
       "0                     영업이익(손실)  \n",
       "1         후속적으로당기손익으로재분류될수있는항목  \n",
       "2                      기타영업외이익  \n",
       "3                      기타영업외비용  \n",
       "4                      판매비와관리비  \n",
       "...                        ...  \n",
       "60784           계속기업희석주당이익(손실)  \n",
       "60856                금융수익-이자수익  \n",
       "60957    기타포괄손익-공정가치측정금융자산처분이익  \n",
       "61055    (1)후속적으로당기손익으로재분류되는항목  \n",
       "61056  (2)후속적으로당기손익으로재분류되지않는항목  \n",
       "\n",
       "[2020 rows x 2 columns]"
      ],
      "text/html": "<div>\n<style scoped>\n    .dataframe tbody tr th:only-of-type {\n        vertical-align: middle;\n    }\n\n    .dataframe tbody tr th {\n        vertical-align: top;\n    }\n\n    .dataframe thead th {\n        text-align: right;\n    }\n</style>\n<table border=\"1\" class=\"dataframe\">\n  <thead>\n    <tr style=\"text-align: right;\">\n      <th></th>\n      <th>항목코드</th>\n      <th>항목명</th>\n    </tr>\n  </thead>\n  <tbody>\n    <tr>\n      <th>0</th>\n      <td>dart_OperatingIncomeLoss</td>\n      <td>영업이익(손실)</td>\n    </tr>\n    <tr>\n      <th>1</th>\n      <td>dart_OtherComprehensiveIncomeThatWillBeReclass...</td>\n      <td>후속적으로당기손익으로재분류될수있는항목</td>\n    </tr>\n    <tr>\n      <th>2</th>\n      <td>dart_OtherGains</td>\n      <td>기타영업외이익</td>\n    </tr>\n    <tr>\n      <th>3</th>\n      <td>dart_OtherLosses</td>\n      <td>기타영업외비용</td>\n    </tr>\n    <tr>\n      <th>4</th>\n      <td>dart_TotalSellingGeneralAdministrativeExpenses</td>\n      <td>판매비와관리비</td>\n    </tr>\n    <tr>\n      <th>...</th>\n      <td>...</td>\n      <td>...</td>\n    </tr>\n    <tr>\n      <th>60784</th>\n      <td>ifrs-full_DilutedEarningsLossPerShare</td>\n      <td>계속기업희석주당이익(손실)</td>\n    </tr>\n    <tr>\n      <th>60856</th>\n      <td>ifrs-full_FinanceIncome</td>\n      <td>금융수익-이자수익</td>\n    </tr>\n    <tr>\n      <th>60957</th>\n      <td>ifrs-full_OtherComprehensiveIncomeNetOfTaxGain...</td>\n      <td>기타포괄손익-공정가치측정금융자산처분이익</td>\n    </tr>\n    <tr>\n      <th>61055</th>\n      <td>dart_OtherComprehensiveIncomeThatWillBeReclass...</td>\n      <td>(1)후속적으로당기손익으로재분류되는항목</td>\n    </tr>\n    <tr>\n      <th>61056</th>\n      <td>dart_OtherComprehensiveIncomeThatWillNotBeRecl...</td>\n      <td>(2)후속적으로당기손익으로재분류되지않는항목</td>\n    </tr>\n  </tbody>\n</table>\n<p>2020 rows × 2 columns</p>\n</div>"
     },
     "metadata": {},
     "execution_count": 27
    }
   ],
   "source": [
    "ef"
   ]
  },
  {
   "cell_type": "code",
   "execution_count": 30,
   "metadata": {},
   "outputs": [],
   "source": [
    "cf=df[df['항목코드'].str.contains(r'^(entity)')]"
   ]
  },
  {
   "cell_type": "code",
   "execution_count": 49,
   "metadata": {},
   "outputs": [
    {
     "output_type": "execute_result",
     "data": {
      "text/plain": [
       "          회사명        시장구분   업종              업종명  결산월       결산기준일   보고서종류   통화  \\\n",
       "5          3S   코스닥시장상장법인  292    특수 목적용 기계 제조업    3  2020-06-30  1분기보고서  KRW   \n",
       "6          3S   코스닥시장상장법인  292    특수 목적용 기계 제조업    3  2020-06-30  1분기보고서  KRW   \n",
       "7          3S   코스닥시장상장법인  292    특수 목적용 기계 제조업    3  2020-06-30  1분기보고서  KRW   \n",
       "8          3S   코스닥시장상장법인  292    특수 목적용 기계 제조업    3  2020-06-30  1분기보고서  KRW   \n",
       "32     AJ네트웍스  유가증권시장상장법인  763  산업용 기계 및 장비 임대업   12  2020-03-31  1분기보고서  KRW   \n",
       "...       ...         ...  ...              ...  ...         ...     ...  ...   \n",
       "61370      힘스   코스닥시장상장법인  292    특수 목적용 기계 제조업   12  2020-03-31  1분기보고서  KRW   \n",
       "61371      힘스   코스닥시장상장법인  292    특수 목적용 기계 제조업   12  2020-03-31  1분기보고서  KRW   \n",
       "61372      힘스   코스닥시장상장법인  292    특수 목적용 기계 제조업   12  2020-03-31  1분기보고서  KRW   \n",
       "61373      힘스   코스닥시장상장법인  292    특수 목적용 기계 제조업   12  2020-03-31  1분기보고서  KRW   \n",
       "61374      힘스   코스닥시장상장법인  292    특수 목적용 기계 제조업   12  2020-03-31  1분기보고서  KRW   \n",
       "\n",
       "                 항목코드                  항목명 당기 1분기 3개월_0 당기 1분기 3개월_1  \\\n",
       "5      entity00378363             관계기업투자이익          NaN          NaN   \n",
       "6      entity00378363                  관리비          NaN          NaN   \n",
       "7      entity00378363  당기손익으로재분류될수있는항목의법인세          NaN          NaN   \n",
       "8      entity00378363                  판매비          NaN          NaN   \n",
       "32     entity00365387          (부의)지분법자본변동          NaN          NaN   \n",
       "...               ...                  ...          ...          ...   \n",
       "61370  entity00556712              기타영업외수익          NaN          NaN   \n",
       "61371  entity00556712                  매출액          NaN          NaN   \n",
       "61372  entity00556712                 매출원가          NaN          NaN   \n",
       "61373  entity00556712                매출총이익          NaN          NaN   \n",
       "61374  entity00556712              판매비와관리비          NaN          NaN   \n",
       "\n",
       "         당기 1분기 3개월_0  당기 1분기 3개월_1  \n",
       "5                 NaN             0  \n",
       "6         512,891,116  -645,411,094  \n",
       "7                   0     4,080,454  \n",
       "8         146,452,111  -155,005,674  \n",
       "32       -134,644,328           NaN  \n",
       "...               ...           ...  \n",
       "61370      17,239,020           NaN  \n",
       "61371  31,714,959,185           NaN  \n",
       "61372  13,742,414,450           NaN  \n",
       "61373  17,972,544,735           NaN  \n",
       "61374   6,875,448,167           NaN  \n",
       "\n",
       "[6068 rows x 14 columns]"
      ],
      "text/html": "<div>\n<style scoped>\n    .dataframe tbody tr th:only-of-type {\n        vertical-align: middle;\n    }\n\n    .dataframe tbody tr th {\n        vertical-align: top;\n    }\n\n    .dataframe thead th {\n        text-align: right;\n    }\n</style>\n<table border=\"1\" class=\"dataframe\">\n  <thead>\n    <tr style=\"text-align: right;\">\n      <th></th>\n      <th>회사명</th>\n      <th>시장구분</th>\n      <th>업종</th>\n      <th>업종명</th>\n      <th>결산월</th>\n      <th>결산기준일</th>\n      <th>보고서종류</th>\n      <th>통화</th>\n      <th>항목코드</th>\n      <th>항목명</th>\n      <th>당기 1분기 3개월_0</th>\n      <th>당기 1분기 3개월_1</th>\n      <th>당기 1분기 3개월_0</th>\n      <th>당기 1분기 3개월_1</th>\n    </tr>\n  </thead>\n  <tbody>\n    <tr>\n      <th>5</th>\n      <td>3S</td>\n      <td>코스닥시장상장법인</td>\n      <td>292</td>\n      <td>특수 목적용 기계 제조업</td>\n      <td>3</td>\n      <td>2020-06-30</td>\n      <td>1분기보고서</td>\n      <td>KRW</td>\n      <td>entity00378363</td>\n      <td>관계기업투자이익</td>\n      <td>NaN</td>\n      <td>NaN</td>\n      <td>NaN</td>\n      <td>0</td>\n    </tr>\n    <tr>\n      <th>6</th>\n      <td>3S</td>\n      <td>코스닥시장상장법인</td>\n      <td>292</td>\n      <td>특수 목적용 기계 제조업</td>\n      <td>3</td>\n      <td>2020-06-30</td>\n      <td>1분기보고서</td>\n      <td>KRW</td>\n      <td>entity00378363</td>\n      <td>관리비</td>\n      <td>NaN</td>\n      <td>NaN</td>\n      <td>512,891,116</td>\n      <td>-645,411,094</td>\n    </tr>\n    <tr>\n      <th>7</th>\n      <td>3S</td>\n      <td>코스닥시장상장법인</td>\n      <td>292</td>\n      <td>특수 목적용 기계 제조업</td>\n      <td>3</td>\n      <td>2020-06-30</td>\n      <td>1분기보고서</td>\n      <td>KRW</td>\n      <td>entity00378363</td>\n      <td>당기손익으로재분류될수있는항목의법인세</td>\n      <td>NaN</td>\n      <td>NaN</td>\n      <td>0</td>\n      <td>4,080,454</td>\n    </tr>\n    <tr>\n      <th>8</th>\n      <td>3S</td>\n      <td>코스닥시장상장법인</td>\n      <td>292</td>\n      <td>특수 목적용 기계 제조업</td>\n      <td>3</td>\n      <td>2020-06-30</td>\n      <td>1분기보고서</td>\n      <td>KRW</td>\n      <td>entity00378363</td>\n      <td>판매비</td>\n      <td>NaN</td>\n      <td>NaN</td>\n      <td>146,452,111</td>\n      <td>-155,005,674</td>\n    </tr>\n    <tr>\n      <th>32</th>\n      <td>AJ네트웍스</td>\n      <td>유가증권시장상장법인</td>\n      <td>763</td>\n      <td>산업용 기계 및 장비 임대업</td>\n      <td>12</td>\n      <td>2020-03-31</td>\n      <td>1분기보고서</td>\n      <td>KRW</td>\n      <td>entity00365387</td>\n      <td>(부의)지분법자본변동</td>\n      <td>NaN</td>\n      <td>NaN</td>\n      <td>-134,644,328</td>\n      <td>NaN</td>\n    </tr>\n    <tr>\n      <th>...</th>\n      <td>...</td>\n      <td>...</td>\n      <td>...</td>\n      <td>...</td>\n      <td>...</td>\n      <td>...</td>\n      <td>...</td>\n      <td>...</td>\n      <td>...</td>\n      <td>...</td>\n      <td>...</td>\n      <td>...</td>\n      <td>...</td>\n      <td>...</td>\n    </tr>\n    <tr>\n      <th>61370</th>\n      <td>힘스</td>\n      <td>코스닥시장상장법인</td>\n      <td>292</td>\n      <td>특수 목적용 기계 제조업</td>\n      <td>12</td>\n      <td>2020-03-31</td>\n      <td>1분기보고서</td>\n      <td>KRW</td>\n      <td>entity00556712</td>\n      <td>기타영업외수익</td>\n      <td>NaN</td>\n      <td>NaN</td>\n      <td>17,239,020</td>\n      <td>NaN</td>\n    </tr>\n    <tr>\n      <th>61371</th>\n      <td>힘스</td>\n      <td>코스닥시장상장법인</td>\n      <td>292</td>\n      <td>특수 목적용 기계 제조업</td>\n      <td>12</td>\n      <td>2020-03-31</td>\n      <td>1분기보고서</td>\n      <td>KRW</td>\n      <td>entity00556712</td>\n      <td>매출액</td>\n      <td>NaN</td>\n      <td>NaN</td>\n      <td>31,714,959,185</td>\n      <td>NaN</td>\n    </tr>\n    <tr>\n      <th>61372</th>\n      <td>힘스</td>\n      <td>코스닥시장상장법인</td>\n      <td>292</td>\n      <td>특수 목적용 기계 제조업</td>\n      <td>12</td>\n      <td>2020-03-31</td>\n      <td>1분기보고서</td>\n      <td>KRW</td>\n      <td>entity00556712</td>\n      <td>매출원가</td>\n      <td>NaN</td>\n      <td>NaN</td>\n      <td>13,742,414,450</td>\n      <td>NaN</td>\n    </tr>\n    <tr>\n      <th>61373</th>\n      <td>힘스</td>\n      <td>코스닥시장상장법인</td>\n      <td>292</td>\n      <td>특수 목적용 기계 제조업</td>\n      <td>12</td>\n      <td>2020-03-31</td>\n      <td>1분기보고서</td>\n      <td>KRW</td>\n      <td>entity00556712</td>\n      <td>매출총이익</td>\n      <td>NaN</td>\n      <td>NaN</td>\n      <td>17,972,544,735</td>\n      <td>NaN</td>\n    </tr>\n    <tr>\n      <th>61374</th>\n      <td>힘스</td>\n      <td>코스닥시장상장법인</td>\n      <td>292</td>\n      <td>특수 목적용 기계 제조업</td>\n      <td>12</td>\n      <td>2020-03-31</td>\n      <td>1분기보고서</td>\n      <td>KRW</td>\n      <td>entity00556712</td>\n      <td>판매비와관리비</td>\n      <td>NaN</td>\n      <td>NaN</td>\n      <td>6,875,448,167</td>\n      <td>NaN</td>\n    </tr>\n  </tbody>\n</table>\n<p>6068 rows × 14 columns</p>\n</div>"
     },
     "metadata": {},
     "execution_count": 49
    }
   ],
   "source": [
    "cf"
   ]
  },
  {
   "cell_type": "code",
   "execution_count": 32,
   "metadata": {},
   "outputs": [
    {
     "output_type": "error",
     "ename": "NameError",
     "evalue": "name '명' is not defined",
     "traceback": [
      "\u001b[1;31m---------------------------------------------------------------------------\u001b[0m",
      "\u001b[1;31mNameError\u001b[0m                                 Traceback (most recent call last)",
      "\u001b[1;32m<ipython-input-32-d6856fffba7e>\u001b[0m in \u001b[0;36m<module>\u001b[1;34m\u001b[0m\n\u001b[1;32m----> 1\u001b[1;33m \u001b[0m명\u001b[0m\u001b[1;33m\u001b[0m\u001b[1;33m\u001b[0m\u001b[0m\n\u001b[0m",
      "\u001b[1;31mNameError\u001b[0m: name '명' is not defined"
     ]
    }
   ],
   "source": []
  },
  {
   "cell_type": "code",
   "execution_count": 36,
   "metadata": {},
   "outputs": [
    {
     "output_type": "execute_result",
     "data": {
      "text/plain": [
       "          회사명        시장구분   업종                       업종명  결산월       결산기준일  \\\n",
       "23         3S   코스닥시장상장법인  292             특수 목적용 기계 제조업    3  2020-06-30   \n",
       "55     AJ네트웍스  유가증권시장상장법인  763           산업용 기계 및 장비 임대업   12  2020-03-31   \n",
       "91      AK홀딩스  유가증권시장상장법인  649                    기타 금융업   12  2020-03-31   \n",
       "125    APS홀딩스   코스닥시장상장법인  649                    기타 금융업   12  2020-03-31   \n",
       "156     AP시스템   코스닥시장상장법인  292             특수 목적용 기계 제조업   12  2020-03-31   \n",
       "...       ...         ...  ...                       ...  ...         ...   \n",
       "61263      흥국   코스닥시장상장법인  292             특수 목적용 기계 제조업   12  2020-03-31   \n",
       "61292  흥국에프엔비   코스닥시장상장법인  112           비알코올음료 및 얼음 제조업   12  2020-03-31   \n",
       "61331    흥아해운  유가증권시장상장법인  501                    해상 운송업   12  2020-03-31   \n",
       "61360      희림   코스닥시장상장법인  721  건축기술, 엔지니어링 및 관련 기술 서비스업   12  2020-03-31   \n",
       "61383      힘스   코스닥시장상장법인  292             특수 목적용 기계 제조업   12  2020-03-31   \n",
       "\n",
       "        보고서종류   통화                  항목코드        항목명 당기 1분기 3개월_0 당기 1분기 3개월_1  \\\n",
       "23     1분기보고서  KRW  ifrs-full_ProfitLoss      분기순이익          NaN          NaN   \n",
       "55     1분기보고서  KRW  ifrs-full_ProfitLoss  당기순이익(손실)          NaN          NaN   \n",
       "91     1분기보고서  KRW  ifrs-full_ProfitLoss  당기순이익(손실)          NaN          NaN   \n",
       "125    1분기보고서  KRW  ifrs-full_ProfitLoss  당기순이익(손실)          NaN          NaN   \n",
       "156    1분기보고서  KRW  ifrs-full_ProfitLoss  당기순이익(손실)          NaN          NaN   \n",
       "...       ...  ...                   ...        ...          ...          ...   \n",
       "61263  1분기보고서  KRW  ifrs-full_ProfitLoss  당기순이익(손실)          NaN          NaN   \n",
       "61292  1분기보고서  KRW  ifrs-full_ProfitLoss  당기순이익(손실)          NaN          NaN   \n",
       "61331  1분기보고서  KRW  ifrs-full_ProfitLoss  당기순이익(손실)          NaN          NaN   \n",
       "61360  1분기보고서  KRW  ifrs-full_ProfitLoss  당기순이익(손실)          NaN          NaN   \n",
       "61383  1분기보고서  KRW  ifrs-full_ProfitLoss  당기순이익(손실)          NaN          NaN   \n",
       "\n",
       "         당기 1분기 3개월_0     당기 1분기 3개월_1  \n",
       "23       -514,741,377     -467,299,923  \n",
       "55       -113,230,171    2,015,671,973  \n",
       "91     16,718,068,276  -84,173,432,426  \n",
       "125    -1,487,461,711     -599,659,468  \n",
       "156     7,920,112,710    8,211,291,126  \n",
       "...               ...              ...  \n",
       "61263   2,556,346,075    2,904,413,609  \n",
       "61292     347,405,877     -386,426,322  \n",
       "61331   4,194,012,390   -2,452,718,384  \n",
       "61360     341,453,948       97,668,321  \n",
       "61383   8,840,394,543              NaN  \n",
       "\n",
       "[2074 rows x 14 columns]"
      ],
      "text/html": "<div>\n<style scoped>\n    .dataframe tbody tr th:only-of-type {\n        vertical-align: middle;\n    }\n\n    .dataframe tbody tr th {\n        vertical-align: top;\n    }\n\n    .dataframe thead th {\n        text-align: right;\n    }\n</style>\n<table border=\"1\" class=\"dataframe\">\n  <thead>\n    <tr style=\"text-align: right;\">\n      <th></th>\n      <th>회사명</th>\n      <th>시장구분</th>\n      <th>업종</th>\n      <th>업종명</th>\n      <th>결산월</th>\n      <th>결산기준일</th>\n      <th>보고서종류</th>\n      <th>통화</th>\n      <th>항목코드</th>\n      <th>항목명</th>\n      <th>당기 1분기 3개월_0</th>\n      <th>당기 1분기 3개월_1</th>\n      <th>당기 1분기 3개월_0</th>\n      <th>당기 1분기 3개월_1</th>\n    </tr>\n  </thead>\n  <tbody>\n    <tr>\n      <th>23</th>\n      <td>3S</td>\n      <td>코스닥시장상장법인</td>\n      <td>292</td>\n      <td>특수 목적용 기계 제조업</td>\n      <td>3</td>\n      <td>2020-06-30</td>\n      <td>1분기보고서</td>\n      <td>KRW</td>\n      <td>ifrs-full_ProfitLoss</td>\n      <td>분기순이익</td>\n      <td>NaN</td>\n      <td>NaN</td>\n      <td>-514,741,377</td>\n      <td>-467,299,923</td>\n    </tr>\n    <tr>\n      <th>55</th>\n      <td>AJ네트웍스</td>\n      <td>유가증권시장상장법인</td>\n      <td>763</td>\n      <td>산업용 기계 및 장비 임대업</td>\n      <td>12</td>\n      <td>2020-03-31</td>\n      <td>1분기보고서</td>\n      <td>KRW</td>\n      <td>ifrs-full_ProfitLoss</td>\n      <td>당기순이익(손실)</td>\n      <td>NaN</td>\n      <td>NaN</td>\n      <td>-113,230,171</td>\n      <td>2,015,671,973</td>\n    </tr>\n    <tr>\n      <th>91</th>\n      <td>AK홀딩스</td>\n      <td>유가증권시장상장법인</td>\n      <td>649</td>\n      <td>기타 금융업</td>\n      <td>12</td>\n      <td>2020-03-31</td>\n      <td>1분기보고서</td>\n      <td>KRW</td>\n      <td>ifrs-full_ProfitLoss</td>\n      <td>당기순이익(손실)</td>\n      <td>NaN</td>\n      <td>NaN</td>\n      <td>16,718,068,276</td>\n      <td>-84,173,432,426</td>\n    </tr>\n    <tr>\n      <th>125</th>\n      <td>APS홀딩스</td>\n      <td>코스닥시장상장법인</td>\n      <td>649</td>\n      <td>기타 금융업</td>\n      <td>12</td>\n      <td>2020-03-31</td>\n      <td>1분기보고서</td>\n      <td>KRW</td>\n      <td>ifrs-full_ProfitLoss</td>\n      <td>당기순이익(손실)</td>\n      <td>NaN</td>\n      <td>NaN</td>\n      <td>-1,487,461,711</td>\n      <td>-599,659,468</td>\n    </tr>\n    <tr>\n      <th>156</th>\n      <td>AP시스템</td>\n      <td>코스닥시장상장법인</td>\n      <td>292</td>\n      <td>특수 목적용 기계 제조업</td>\n      <td>12</td>\n      <td>2020-03-31</td>\n      <td>1분기보고서</td>\n      <td>KRW</td>\n      <td>ifrs-full_ProfitLoss</td>\n      <td>당기순이익(손실)</td>\n      <td>NaN</td>\n      <td>NaN</td>\n      <td>7,920,112,710</td>\n      <td>8,211,291,126</td>\n    </tr>\n    <tr>\n      <th>...</th>\n      <td>...</td>\n      <td>...</td>\n      <td>...</td>\n      <td>...</td>\n      <td>...</td>\n      <td>...</td>\n      <td>...</td>\n      <td>...</td>\n      <td>...</td>\n      <td>...</td>\n      <td>...</td>\n      <td>...</td>\n      <td>...</td>\n      <td>...</td>\n    </tr>\n    <tr>\n      <th>61263</th>\n      <td>흥국</td>\n      <td>코스닥시장상장법인</td>\n      <td>292</td>\n      <td>특수 목적용 기계 제조업</td>\n      <td>12</td>\n      <td>2020-03-31</td>\n      <td>1분기보고서</td>\n      <td>KRW</td>\n      <td>ifrs-full_ProfitLoss</td>\n      <td>당기순이익(손실)</td>\n      <td>NaN</td>\n      <td>NaN</td>\n      <td>2,556,346,075</td>\n      <td>2,904,413,609</td>\n    </tr>\n    <tr>\n      <th>61292</th>\n      <td>흥국에프엔비</td>\n      <td>코스닥시장상장법인</td>\n      <td>112</td>\n      <td>비알코올음료 및 얼음 제조업</td>\n      <td>12</td>\n      <td>2020-03-31</td>\n      <td>1분기보고서</td>\n      <td>KRW</td>\n      <td>ifrs-full_ProfitLoss</td>\n      <td>당기순이익(손실)</td>\n      <td>NaN</td>\n      <td>NaN</td>\n      <td>347,405,877</td>\n      <td>-386,426,322</td>\n    </tr>\n    <tr>\n      <th>61331</th>\n      <td>흥아해운</td>\n      <td>유가증권시장상장법인</td>\n      <td>501</td>\n      <td>해상 운송업</td>\n      <td>12</td>\n      <td>2020-03-31</td>\n      <td>1분기보고서</td>\n      <td>KRW</td>\n      <td>ifrs-full_ProfitLoss</td>\n      <td>당기순이익(손실)</td>\n      <td>NaN</td>\n      <td>NaN</td>\n      <td>4,194,012,390</td>\n      <td>-2,452,718,384</td>\n    </tr>\n    <tr>\n      <th>61360</th>\n      <td>희림</td>\n      <td>코스닥시장상장법인</td>\n      <td>721</td>\n      <td>건축기술, 엔지니어링 및 관련 기술 서비스업</td>\n      <td>12</td>\n      <td>2020-03-31</td>\n      <td>1분기보고서</td>\n      <td>KRW</td>\n      <td>ifrs-full_ProfitLoss</td>\n      <td>당기순이익(손실)</td>\n      <td>NaN</td>\n      <td>NaN</td>\n      <td>341,453,948</td>\n      <td>97,668,321</td>\n    </tr>\n    <tr>\n      <th>61383</th>\n      <td>힘스</td>\n      <td>코스닥시장상장법인</td>\n      <td>292</td>\n      <td>특수 목적용 기계 제조업</td>\n      <td>12</td>\n      <td>2020-03-31</td>\n      <td>1분기보고서</td>\n      <td>KRW</td>\n      <td>ifrs-full_ProfitLoss</td>\n      <td>당기순이익(손실)</td>\n      <td>NaN</td>\n      <td>NaN</td>\n      <td>8,840,394,543</td>\n      <td>NaN</td>\n    </tr>\n  </tbody>\n</table>\n<p>2074 rows × 14 columns</p>\n</div>"
     },
     "metadata": {},
     "execution_count": 36
    }
   ],
   "source": [
    "df[df['항목코드']=='ifrs-full_ProfitLossAttributableToOwnersOfParent']"
   ]
  },
  {
   "cell_type": "code",
   "execution_count": 52,
   "metadata": {},
   "outputs": [],
   "source": [
    "wf=df[df['항목코드'].str.contains(r'^entity')].set_index('항목명')"
   ]
  },
  {
   "cell_type": "code",
   "execution_count": 59,
   "metadata": {},
   "outputs": [],
   "source": [
    "wf.update(rf)"
   ]
  },
  {
   "cell_type": "code",
   "execution_count": 57,
   "metadata": {},
   "outputs": [],
   "source": [
    "rf=ef.set_index('항목명')"
   ]
  },
  {
   "cell_type": "code",
   "execution_count": 61,
   "metadata": {},
   "outputs": [],
   "source": [
    "wf.to_csv(\"ㅈㄹㅈㄹㅈ.csv\", encoding='cp949')"
   ]
  },
  {
   "cell_type": "code",
   "execution_count": 1,
   "metadata": {},
   "outputs": [],
   "source": [
    "import pandas as pd"
   ]
  },
  {
   "cell_type": "code",
   "execution_count": 2,
   "metadata": {},
   "outputs": [],
   "source": [
    "df = pd.DataFrame()"
   ]
  },
  {
   "cell_type": "code",
   "execution_count": 4,
   "metadata": {},
   "outputs": [],
   "source": [
    "df['a'] =1"
   ]
  },
  {
   "cell_type": "code",
   "execution_count": 8,
   "metadata": {},
   "outputs": [
    {
     "output_type": "error",
     "ename": "ValueError",
     "evalue": "If using all scalar values, you must pass an index",
     "traceback": [
      "\u001b[1;31m---------------------------------------------------------------------------\u001b[0m",
      "\u001b[1;31mValueError\u001b[0m                                Traceback (most recent call last)",
      "\u001b[1;32m<ipython-input-8-167891945a00>\u001b[0m in \u001b[0;36m<module>\u001b[1;34m\u001b[0m\n\u001b[1;32m----> 1\u001b[1;33m df2 = pd.DataFrame({'A': 1.,\n\u001b[0m\u001b[0;32m      2\u001b[0m                      'B': 2})\n",
      "\u001b[1;32mD:\\123\\lib\\site-packages\\pandas\\core\\frame.py\u001b[0m in \u001b[0;36m__init__\u001b[1;34m(self, data, index, columns, dtype, copy)\u001b[0m\n\u001b[0;32m    433\u001b[0m             )\n\u001b[0;32m    434\u001b[0m         \u001b[1;32melif\u001b[0m \u001b[0misinstance\u001b[0m\u001b[1;33m(\u001b[0m\u001b[0mdata\u001b[0m\u001b[1;33m,\u001b[0m \u001b[0mdict\u001b[0m\u001b[1;33m)\u001b[0m\u001b[1;33m:\u001b[0m\u001b[1;33m\u001b[0m\u001b[1;33m\u001b[0m\u001b[0m\n\u001b[1;32m--> 435\u001b[1;33m             \u001b[0mmgr\u001b[0m \u001b[1;33m=\u001b[0m \u001b[0minit_dict\u001b[0m\u001b[1;33m(\u001b[0m\u001b[0mdata\u001b[0m\u001b[1;33m,\u001b[0m \u001b[0mindex\u001b[0m\u001b[1;33m,\u001b[0m \u001b[0mcolumns\u001b[0m\u001b[1;33m,\u001b[0m \u001b[0mdtype\u001b[0m\u001b[1;33m=\u001b[0m\u001b[0mdtype\u001b[0m\u001b[1;33m)\u001b[0m\u001b[1;33m\u001b[0m\u001b[1;33m\u001b[0m\u001b[0m\n\u001b[0m\u001b[0;32m    436\u001b[0m         \u001b[1;32melif\u001b[0m \u001b[0misinstance\u001b[0m\u001b[1;33m(\u001b[0m\u001b[0mdata\u001b[0m\u001b[1;33m,\u001b[0m \u001b[0mma\u001b[0m\u001b[1;33m.\u001b[0m\u001b[0mMaskedArray\u001b[0m\u001b[1;33m)\u001b[0m\u001b[1;33m:\u001b[0m\u001b[1;33m\u001b[0m\u001b[1;33m\u001b[0m\u001b[0m\n\u001b[0;32m    437\u001b[0m             \u001b[1;32mimport\u001b[0m \u001b[0mnumpy\u001b[0m\u001b[1;33m.\u001b[0m\u001b[0mma\u001b[0m\u001b[1;33m.\u001b[0m\u001b[0mmrecords\u001b[0m \u001b[1;32mas\u001b[0m \u001b[0mmrecords\u001b[0m\u001b[1;33m\u001b[0m\u001b[1;33m\u001b[0m\u001b[0m\n",
      "\u001b[1;32mD:\\123\\lib\\site-packages\\pandas\\core\\internals\\construction.py\u001b[0m in \u001b[0;36minit_dict\u001b[1;34m(data, index, columns, dtype)\u001b[0m\n\u001b[0;32m    252\u001b[0m             \u001b[0marr\u001b[0m \u001b[1;32mif\u001b[0m \u001b[1;32mnot\u001b[0m \u001b[0mis_datetime64tz_dtype\u001b[0m\u001b[1;33m(\u001b[0m\u001b[0marr\u001b[0m\u001b[1;33m)\u001b[0m \u001b[1;32melse\u001b[0m \u001b[0marr\u001b[0m\u001b[1;33m.\u001b[0m\u001b[0mcopy\u001b[0m\u001b[1;33m(\u001b[0m\u001b[1;33m)\u001b[0m \u001b[1;32mfor\u001b[0m \u001b[0marr\u001b[0m \u001b[1;32min\u001b[0m \u001b[0marrays\u001b[0m\u001b[1;33m\u001b[0m\u001b[1;33m\u001b[0m\u001b[0m\n\u001b[0;32m    253\u001b[0m         ]\n\u001b[1;32m--> 254\u001b[1;33m     \u001b[1;32mreturn\u001b[0m \u001b[0marrays_to_mgr\u001b[0m\u001b[1;33m(\u001b[0m\u001b[0marrays\u001b[0m\u001b[1;33m,\u001b[0m \u001b[0mdata_names\u001b[0m\u001b[1;33m,\u001b[0m \u001b[0mindex\u001b[0m\u001b[1;33m,\u001b[0m \u001b[0mcolumns\u001b[0m\u001b[1;33m,\u001b[0m \u001b[0mdtype\u001b[0m\u001b[1;33m=\u001b[0m\u001b[0mdtype\u001b[0m\u001b[1;33m)\u001b[0m\u001b[1;33m\u001b[0m\u001b[1;33m\u001b[0m\u001b[0m\n\u001b[0m\u001b[0;32m    255\u001b[0m \u001b[1;33m\u001b[0m\u001b[0m\n\u001b[0;32m    256\u001b[0m \u001b[1;33m\u001b[0m\u001b[0m\n",
      "\u001b[1;32mD:\\123\\lib\\site-packages\\pandas\\core\\internals\\construction.py\u001b[0m in \u001b[0;36marrays_to_mgr\u001b[1;34m(arrays, arr_names, index, columns, dtype)\u001b[0m\n\u001b[0;32m     62\u001b[0m     \u001b[1;31m# figure out the index, if necessary\u001b[0m\u001b[1;33m\u001b[0m\u001b[1;33m\u001b[0m\u001b[1;33m\u001b[0m\u001b[0m\n\u001b[0;32m     63\u001b[0m     \u001b[1;32mif\u001b[0m \u001b[0mindex\u001b[0m \u001b[1;32mis\u001b[0m \u001b[1;32mNone\u001b[0m\u001b[1;33m:\u001b[0m\u001b[1;33m\u001b[0m\u001b[1;33m\u001b[0m\u001b[0m\n\u001b[1;32m---> 64\u001b[1;33m         \u001b[0mindex\u001b[0m \u001b[1;33m=\u001b[0m \u001b[0mextract_index\u001b[0m\u001b[1;33m(\u001b[0m\u001b[0marrays\u001b[0m\u001b[1;33m)\u001b[0m\u001b[1;33m\u001b[0m\u001b[1;33m\u001b[0m\u001b[0m\n\u001b[0m\u001b[0;32m     65\u001b[0m     \u001b[1;32melse\u001b[0m\u001b[1;33m:\u001b[0m\u001b[1;33m\u001b[0m\u001b[1;33m\u001b[0m\u001b[0m\n\u001b[0;32m     66\u001b[0m         \u001b[0mindex\u001b[0m \u001b[1;33m=\u001b[0m \u001b[0mensure_index\u001b[0m\u001b[1;33m(\u001b[0m\u001b[0mindex\u001b[0m\u001b[1;33m)\u001b[0m\u001b[1;33m\u001b[0m\u001b[1;33m\u001b[0m\u001b[0m\n",
      "\u001b[1;32mD:\\123\\lib\\site-packages\\pandas\\core\\internals\\construction.py\u001b[0m in \u001b[0;36mextract_index\u001b[1;34m(data)\u001b[0m\n\u001b[0;32m    353\u001b[0m \u001b[1;33m\u001b[0m\u001b[0m\n\u001b[0;32m    354\u001b[0m         \u001b[1;32mif\u001b[0m \u001b[1;32mnot\u001b[0m \u001b[0mindexes\u001b[0m \u001b[1;32mand\u001b[0m \u001b[1;32mnot\u001b[0m \u001b[0mraw_lengths\u001b[0m\u001b[1;33m:\u001b[0m\u001b[1;33m\u001b[0m\u001b[1;33m\u001b[0m\u001b[0m\n\u001b[1;32m--> 355\u001b[1;33m             \u001b[1;32mraise\u001b[0m \u001b[0mValueError\u001b[0m\u001b[1;33m(\u001b[0m\u001b[1;34m\"If using all scalar values, you must pass an index\"\u001b[0m\u001b[1;33m)\u001b[0m\u001b[1;33m\u001b[0m\u001b[1;33m\u001b[0m\u001b[0m\n\u001b[0m\u001b[0;32m    356\u001b[0m \u001b[1;33m\u001b[0m\u001b[0m\n\u001b[0;32m    357\u001b[0m         \u001b[1;32mif\u001b[0m \u001b[0mhave_series\u001b[0m\u001b[1;33m:\u001b[0m\u001b[1;33m\u001b[0m\u001b[1;33m\u001b[0m\u001b[0m\n",
      "\u001b[1;31mValueError\u001b[0m: If using all scalar values, you must pass an index"
     ]
    }
   ],
   "source": [
    "df2 = pd.DataFrame({'A': 1.,\n",
    "                     'B': 2})"
   ]
  },
  {
   "cell_type": "code",
   "execution_count": 15,
   "metadata": {},
   "outputs": [],
   "source": [
    "df=pd.DataFrame({'a' : [1,2,3]}, index=['q','w','e'])\n",
    "ef=pd.DataFrame({'a' : [float('NaN'),float('NaN'),3]}, index=['q','w','e'])"
   ]
  },
  {
   "cell_type": "code",
   "execution_count": 22,
   "metadata": {},
   "outputs": [],
   "source": [
    "tf=ef.copy()\n",
    "yt= tf\n"
   ]
  },
  {
   "cell_type": "code",
   "execution_count": 19,
   "metadata": {},
   "outputs": [],
   "source": [
    "yt.update(df)"
   ]
  },
  {
   "cell_type": "code",
   "execution_count": 54,
   "metadata": {},
   "outputs": [
    {
     "output_type": "execute_result",
     "data": {
      "text/plain": [
       "      a\n",
       "q  20.0\n",
       "w   2.0\n",
       "e   3.0"
      ],
      "text/html": "<div>\n<style scoped>\n    .dataframe tbody tr th:only-of-type {\n        vertical-align: middle;\n    }\n\n    .dataframe tbody tr th {\n        vertical-align: top;\n    }\n\n    .dataframe thead th {\n        text-align: right;\n    }\n</style>\n<table border=\"1\" class=\"dataframe\">\n  <thead>\n    <tr style=\"text-align: right;\">\n      <th></th>\n      <th>a</th>\n    </tr>\n  </thead>\n  <tbody>\n    <tr>\n      <th>q</th>\n      <td>20.0</td>\n    </tr>\n    <tr>\n      <th>w</th>\n      <td>2.0</td>\n    </tr>\n    <tr>\n      <th>e</th>\n      <td>3.0</td>\n    </tr>\n  </tbody>\n</table>\n</div>"
     },
     "metadata": {},
     "execution_count": 54
    }
   ],
   "source": [
    "yt.loc[[True,False,False],:]=20\n",
    "yt"
   ]
  },
  {
   "cell_type": "code",
   "execution_count": 50,
   "metadata": {},
   "outputs": [],
   "source": [
    "yt.update(df)"
   ]
  },
  {
   "cell_type": "code",
   "execution_count": 51,
   "metadata": {},
   "outputs": [
    {
     "output_type": "execute_result",
     "data": {
      "text/plain": [
       "     a\n",
       "q  1.0\n",
       "w  2.0\n",
       "e  3.0"
      ],
      "text/html": "<div>\n<style scoped>\n    .dataframe tbody tr th:only-of-type {\n        vertical-align: middle;\n    }\n\n    .dataframe tbody tr th {\n        vertical-align: top;\n    }\n\n    .dataframe thead th {\n        text-align: right;\n    }\n</style>\n<table border=\"1\" class=\"dataframe\">\n  <thead>\n    <tr style=\"text-align: right;\">\n      <th></th>\n      <th>a</th>\n    </tr>\n  </thead>\n  <tbody>\n    <tr>\n      <th>q</th>\n      <td>1.0</td>\n    </tr>\n    <tr>\n      <th>w</th>\n      <td>2.0</td>\n    </tr>\n    <tr>\n      <th>e</th>\n      <td>3.0</td>\n    </tr>\n  </tbody>\n</table>\n</div>"
     },
     "metadata": {},
     "execution_count": 51
    }
   ],
   "source": [
    "yt"
   ]
  },
  {
   "cell_type": "code",
   "execution_count": 3,
   "metadata": {},
   "outputs": [],
   "source": [
    "from jamu import jamu"
   ]
  },
  {
   "cell_type": "code",
   "execution_count": 4,
   "metadata": {},
   "outputs": [
    {
     "output_type": "error",
     "ename": "PermissionError",
     "evalue": "[Errno 13] Permission denied: 'merge.csv'",
     "traceback": [
      "\u001b[1;31m---------------------------------------------------------------------------\u001b[0m",
      "\u001b[1;31mPermissionError\u001b[0m                           Traceback (most recent call last)",
      "\u001b[1;32m<ipython-input-4-a15de77bff5a>\u001b[0m in \u001b[0;36m<module>\u001b[1;34m\u001b[0m\n\u001b[1;32m----> 1\u001b[1;33m \u001b[0mtest\u001b[0m \u001b[1;33m=\u001b[0m \u001b[0mjamu\u001b[0m\u001b[1;33m(\u001b[0m\u001b[1;33m)\u001b[0m\u001b[1;33m\u001b[0m\u001b[1;33m\u001b[0m\u001b[0m\n\u001b[0m",
      "\u001b[1;32mh:\\Financial-statements_data\\jamu.py\u001b[0m in \u001b[0;36m__init__\u001b[1;34m(self)\u001b[0m\n\u001b[0;32m     10\u001b[0m \u001b[1;33m\u001b[0m\u001b[0m\n\u001b[0;32m     11\u001b[0m         \u001b[1;31m#실행\u001b[0m\u001b[1;33m\u001b[0m\u001b[1;33m\u001b[0m\u001b[1;33m\u001b[0m\u001b[0m\n\u001b[1;32m---> 12\u001b[1;33m         \u001b[0mself\u001b[0m\u001b[1;33m.\u001b[0m\u001b[0mmodify_first\u001b[0m\u001b[1;33m(\u001b[0m\u001b[1;33m)\u001b[0m\u001b[1;33m\u001b[0m\u001b[1;33m\u001b[0m\u001b[0m\n\u001b[0m\u001b[0;32m     13\u001b[0m \u001b[1;33m\u001b[0m\u001b[0m\n\u001b[0;32m     14\u001b[0m \u001b[1;33m\u001b[0m\u001b[0m\n",
      "\u001b[1;32mh:\\Financial-statements_data\\jamu.py\u001b[0m in \u001b[0;36mmodify_first\u001b[1;34m(self)\u001b[0m\n\u001b[0;32m     74\u001b[0m         \u001b[1;31m#     self.mergeJamu = self.mergeJamu.combine_first(df)\u001b[0m\u001b[1;33m\u001b[0m\u001b[1;33m\u001b[0m\u001b[1;33m\u001b[0m\u001b[0m\n\u001b[0;32m     75\u001b[0m \u001b[1;33m\u001b[0m\u001b[0m\n\u001b[1;32m---> 76\u001b[1;33m         \u001b[1;31m# self.mergeJamu.to_csv('merge.csv', encoding='cp949')\u001b[0m\u001b[1;33m\u001b[0m\u001b[1;33m\u001b[0m\u001b[1;33m\u001b[0m\u001b[0m\n\u001b[0m\u001b[0;32m     77\u001b[0m \u001b[1;33m\u001b[0m\u001b[0m\n\u001b[0;32m     78\u001b[0m \u001b[1;33m\u001b[0m\u001b[0m\n",
      "\u001b[1;32mD:\\123\\lib\\site-packages\\pandas\\core\\generic.py\u001b[0m in \u001b[0;36mto_csv\u001b[1;34m(self, path_or_buf, sep, na_rep, float_format, columns, header, index, index_label, mode, encoding, compression, quoting, quotechar, line_terminator, chunksize, date_format, doublequote, escapechar, decimal)\u001b[0m\n\u001b[0;32m   3202\u001b[0m             \u001b[0mdecimal\u001b[0m\u001b[1;33m=\u001b[0m\u001b[0mdecimal\u001b[0m\u001b[1;33m,\u001b[0m\u001b[1;33m\u001b[0m\u001b[1;33m\u001b[0m\u001b[0m\n\u001b[0;32m   3203\u001b[0m         )\n\u001b[1;32m-> 3204\u001b[1;33m         \u001b[0mformatter\u001b[0m\u001b[1;33m.\u001b[0m\u001b[0msave\u001b[0m\u001b[1;33m(\u001b[0m\u001b[1;33m)\u001b[0m\u001b[1;33m\u001b[0m\u001b[1;33m\u001b[0m\u001b[0m\n\u001b[0m\u001b[0;32m   3205\u001b[0m \u001b[1;33m\u001b[0m\u001b[0m\n\u001b[0;32m   3206\u001b[0m         \u001b[1;32mif\u001b[0m \u001b[0mpath_or_buf\u001b[0m \u001b[1;32mis\u001b[0m \u001b[1;32mNone\u001b[0m\u001b[1;33m:\u001b[0m\u001b[1;33m\u001b[0m\u001b[1;33m\u001b[0m\u001b[0m\n",
      "\u001b[1;32mD:\\123\\lib\\site-packages\\pandas\\io\\formats\\csvs.py\u001b[0m in \u001b[0;36msave\u001b[1;34m(self)\u001b[0m\n\u001b[0;32m    182\u001b[0m             \u001b[0mclose\u001b[0m \u001b[1;33m=\u001b[0m \u001b[1;32mFalse\u001b[0m\u001b[1;33m\u001b[0m\u001b[1;33m\u001b[0m\u001b[0m\n\u001b[0;32m    183\u001b[0m         \u001b[1;32melse\u001b[0m\u001b[1;33m:\u001b[0m\u001b[1;33m\u001b[0m\u001b[1;33m\u001b[0m\u001b[0m\n\u001b[1;32m--> 184\u001b[1;33m             f, handles = get_handle(\n\u001b[0m\u001b[0;32m    185\u001b[0m                 \u001b[0mself\u001b[0m\u001b[1;33m.\u001b[0m\u001b[0mpath_or_buf\u001b[0m\u001b[1;33m,\u001b[0m\u001b[1;33m\u001b[0m\u001b[1;33m\u001b[0m\u001b[0m\n\u001b[0;32m    186\u001b[0m                 \u001b[0mself\u001b[0m\u001b[1;33m.\u001b[0m\u001b[0mmode\u001b[0m\u001b[1;33m,\u001b[0m\u001b[1;33m\u001b[0m\u001b[1;33m\u001b[0m\u001b[0m\n",
      "\u001b[1;32mD:\\123\\lib\\site-packages\\pandas\\io\\common.py\u001b[0m in \u001b[0;36mget_handle\u001b[1;34m(path_or_buf, mode, encoding, compression, memory_map, is_text)\u001b[0m\n\u001b[0;32m    426\u001b[0m         \u001b[1;32mif\u001b[0m \u001b[0mencoding\u001b[0m\u001b[1;33m:\u001b[0m\u001b[1;33m\u001b[0m\u001b[1;33m\u001b[0m\u001b[0m\n\u001b[0;32m    427\u001b[0m             \u001b[1;31m# Encoding\u001b[0m\u001b[1;33m\u001b[0m\u001b[1;33m\u001b[0m\u001b[1;33m\u001b[0m\u001b[0m\n\u001b[1;32m--> 428\u001b[1;33m             \u001b[0mf\u001b[0m \u001b[1;33m=\u001b[0m \u001b[0mopen\u001b[0m\u001b[1;33m(\u001b[0m\u001b[0mpath_or_buf\u001b[0m\u001b[1;33m,\u001b[0m \u001b[0mmode\u001b[0m\u001b[1;33m,\u001b[0m \u001b[0mencoding\u001b[0m\u001b[1;33m=\u001b[0m\u001b[0mencoding\u001b[0m\u001b[1;33m,\u001b[0m \u001b[0mnewline\u001b[0m\u001b[1;33m=\u001b[0m\u001b[1;34m\"\"\u001b[0m\u001b[1;33m)\u001b[0m\u001b[1;33m\u001b[0m\u001b[1;33m\u001b[0m\u001b[0m\n\u001b[0m\u001b[0;32m    429\u001b[0m         \u001b[1;32melif\u001b[0m \u001b[0mis_text\u001b[0m\u001b[1;33m:\u001b[0m\u001b[1;33m\u001b[0m\u001b[1;33m\u001b[0m\u001b[0m\n\u001b[0;32m    430\u001b[0m             \u001b[1;31m# No explicit encoding\u001b[0m\u001b[1;33m\u001b[0m\u001b[1;33m\u001b[0m\u001b[1;33m\u001b[0m\u001b[0m\n",
      "\u001b[1;31mPermissionError\u001b[0m: [Errno 13] Permission denied: 'merge.csv'"
     ]
    }
   ],
   "source": [
    "test = jamu()"
   ]
  },
  {
   "cell_type": "code",
   "execution_count": 9,
   "metadata": {},
   "outputs": [],
   "source": [
    "import pandas as pd"
   ]
  },
  {
   "cell_type": "code",
   "execution_count": 14,
   "metadata": {},
   "outputs": [],
   "source": [
    "df = pd.read_excel('재무.xlsx',sheet_name = None)"
   ]
  },
  {
   "cell_type": "code",
   "execution_count": 21,
   "metadata": {},
   "outputs": [
    {
     "output_type": "execute_result",
     "data": {
      "text/plain": [
       "0      [D310000] 손익계산서, 기능별 분류 - 연결재무제표\n",
       "1                      손익계산서 [abstract]\n",
       "2                               수익(매출액)\n",
       "3                    재화의 판매로 인한 수익(매출액)\n",
       "4                                 제품매출액\n",
       "                     ...               \n",
       "357                      계속영업기본주당이익(손실)\n",
       "358                      중단영업기본주당이익(손실)\n",
       "359                          희석주당이익(손실)\n",
       "360                      계속영업희석주당이익(손실)\n",
       "361                      중단영업희석주당이익(손실)\n",
       "Name: 한글 Label, Length: 362, dtype: object"
      ]
     },
     "metadata": {},
     "execution_count": 21
    }
   ],
   "source": [
    "cf= pd.concat([df[f'']"
   ]
  },
  {
   "cell_type": "code",
   "execution_count": 31,
   "metadata": {},
   "outputs": [],
   "source": [
    "count = [ f'IS{i}'for i in range(1,5)] + [ f'CIS{i}'for i in range(1,5)] + [ f'DCIS{i}'for i in range(1,9)]"
   ]
  },
  {
   "cell_type": "code",
   "execution_count": 32,
   "metadata": {},
   "outputs": [],
   "source": [
    "cf = pd.concat([df[str(i)] for i in count])"
   ]
  },
  {
   "cell_type": "code",
   "execution_count": 35,
   "metadata": {},
   "outputs": [],
   "source": [
    "cf.to_csv(\"재무제표.csv\", encoding='cp949')"
   ]
  },
  {
   "cell_type": "code",
   "execution_count": 41,
   "metadata": {},
   "outputs": [],
   "source": [
    "rf= cf.drop(['영문 Label', 'IFRS Reference', 'Element Name', 'Data Type'], axis=1)"
   ]
  },
  {
   "cell_type": "code",
   "execution_count": 44,
   "metadata": {},
   "outputs": [],
   "source": [
    "qt=rf.drop_duplicates('Element ID')\n"
   ]
  },
  {
   "cell_type": "code",
   "execution_count": 46,
   "metadata": {},
   "outputs": [],
   "source": [
    "qt.to_csv(\"수정.csv\", encoding='cp949')"
   ]
  },
  {
   "cell_type": "code",
   "execution_count": 47,
   "metadata": {},
   "outputs": [],
   "source": [
    "qt.columns = ['계정과목', '과목코드']"
   ]
  },
  {
   "cell_type": "code",
   "execution_count": null,
   "metadata": {},
   "outputs": [],
   "source": []
  },
  {
   "cell_type": "code",
   "execution_count": 51,
   "metadata": {},
   "outputs": [],
   "source": [
    "qt.set_index('과목코드', inplace=True)"
   ]
  },
  {
   "cell_type": "code",
   "execution_count": 52,
   "metadata": {},
   "outputs": [
    {
     "output_type": "execute_result",
     "data": {
      "text/plain": [
       "                                                                                계정과목\n",
       "과목코드                                                                                \n",
       "NaN                                                 [D310000] 손익계산서, 기능별 분류 - 연결재무제표\n",
       "ifrs-full_IncomeStatementAbstract                                   손익계산서 [abstract]\n",
       "ifrs-full_Revenue                                                            수익(매출액)\n",
       "ifrs-full_RevenueFromSaleOfGoods                                  재화의 판매로 인한 수익(매출액)\n",
       "dart_RevenueFromSaleOfGoodsProduct                                             제품매출액\n",
       "...                                                                              ...\n",
       "ifrs-full_GainsLossesOnChangeInValueOfForwardEl...      선도계약의 선도요소 가치 변동손익(세전기타포괄손익)\n",
       "ifrs-full_ReclassificationAdjustmentsOnChangeIn...       선도계약의 선도요소 가치 변동손익의 세전재분류조정\n",
       "ifrs-full_GainsLossesOnChangeInValueOfForeignCu...        외화베이시스스프레드 변동 손익(세전기타포괄손익)\n",
       "ifrs-full_ReclassificationAdjustmentsOnChangeIn...         외화베이시스스프레드 변동 손익의 세전재분류조정\n",
       "dart_IncomeTaxRelatingToComponentsOfOtherCompre...       당기손익으로 재분류될수 있는 항목과 관련된 법인세\n",
       "\n",
       "[432 rows x 1 columns]"
      ],
      "text/html": "<div>\n<style scoped>\n    .dataframe tbody tr th:only-of-type {\n        vertical-align: middle;\n    }\n\n    .dataframe tbody tr th {\n        vertical-align: top;\n    }\n\n    .dataframe thead th {\n        text-align: right;\n    }\n</style>\n<table border=\"1\" class=\"dataframe\">\n  <thead>\n    <tr style=\"text-align: right;\">\n      <th></th>\n      <th>계정과목</th>\n    </tr>\n    <tr>\n      <th>과목코드</th>\n      <th></th>\n    </tr>\n  </thead>\n  <tbody>\n    <tr>\n      <th>NaN</th>\n      <td>[D310000] 손익계산서, 기능별 분류 - 연결재무제표</td>\n    </tr>\n    <tr>\n      <th>ifrs-full_IncomeStatementAbstract</th>\n      <td>손익계산서 [abstract]</td>\n    </tr>\n    <tr>\n      <th>ifrs-full_Revenue</th>\n      <td>수익(매출액)</td>\n    </tr>\n    <tr>\n      <th>ifrs-full_RevenueFromSaleOfGoods</th>\n      <td>재화의 판매로 인한 수익(매출액)</td>\n    </tr>\n    <tr>\n      <th>dart_RevenueFromSaleOfGoodsProduct</th>\n      <td>제품매출액</td>\n    </tr>\n    <tr>\n      <th>...</th>\n      <td>...</td>\n    </tr>\n    <tr>\n      <th>ifrs-full_GainsLossesOnChangeInValueOfForwardElementsOfForwardContractsBeforeTax</th>\n      <td>선도계약의 선도요소 가치 변동손익(세전기타포괄손익)</td>\n    </tr>\n    <tr>\n      <th>ifrs-full_ReclassificationAdjustmentsOnChangeInValueOfForwardElementsOfForwardContractsBeforeTax</th>\n      <td>선도계약의 선도요소 가치 변동손익의 세전재분류조정</td>\n    </tr>\n    <tr>\n      <th>ifrs-full_GainsLossesOnChangeInValueOfForeignCurrencyBasisSpreadsBeforeTax</th>\n      <td>외화베이시스스프레드 변동 손익(세전기타포괄손익)</td>\n    </tr>\n    <tr>\n      <th>ifrs-full_ReclassificationAdjustmentsOnChangeInValueOfForeignCurrencyBasisSpreadsBeforeTax</th>\n      <td>외화베이시스스프레드 변동 손익의 세전재분류조정</td>\n    </tr>\n    <tr>\n      <th>dart_IncomeTaxRelatingToComponentsOfOtherComprehensiveIncomeThatWillBeReclassifiedToProfitOrLoss</th>\n      <td>당기손익으로 재분류될수 있는 항목과 관련된 법인세</td>\n    </tr>\n  </tbody>\n</table>\n<p>432 rows × 1 columns</p>\n</div>"
     },
     "metadata": {},
     "execution_count": 52
    }
   ],
   "source": [
    "qt"
   ]
  },
  {
   "cell_type": "code",
   "execution_count": 145,
   "metadata": {},
   "outputs": [],
   "source": [
    "qt.to_excel('ifrs계정과목.xlsx',encoding='cp949')"
   ]
  },
  {
   "cell_type": "code",
   "execution_count": 56,
   "metadata": {},
   "outputs": [],
   "source": [
    "import os"
   ]
  },
  {
   "cell_type": "code",
   "execution_count": 143,
   "metadata": {},
   "outputs": [
    {
     "output_type": "execute_result",
     "data": {
      "text/plain": [
       "                                                                                계정과목\n",
       "과목코드                                                                                \n",
       "NaN                                                 [D310000] 손익계산서, 기능별 분류 - 연결재무제표\n",
       "ifrs-full_IncomeStatementAbstract                                   손익계산서 [abstract]\n",
       "ifrs-full_Revenue                                                            수익(매출액)\n",
       "ifrs-full_RevenueFromSaleOfGoods                                  재화의 판매로 인한 수익(매출액)\n",
       "dart_RevenueFromSaleOfGoodsProduct                                             제품매출액\n",
       "...                                                                              ...\n",
       "ifrs-full_GainsLossesOnChangeInValueOfForwardEl...      선도계약의 선도요소 가치 변동손익(세전기타포괄손익)\n",
       "ifrs-full_ReclassificationAdjustmentsOnChangeIn...       선도계약의 선도요소 가치 변동손익의 세전재분류조정\n",
       "ifrs-full_GainsLossesOnChangeInValueOfForeignCu...        외화베이시스스프레드 변동 손익(세전기타포괄손익)\n",
       "ifrs-full_ReclassificationAdjustmentsOnChangeIn...         외화베이시스스프레드 변동 손익의 세전재분류조정\n",
       "dart_IncomeTaxRelatingToComponentsOfOtherCompre...       당기손익으로 재분류될수 있는 항목과 관련된 법인세\n",
       "\n",
       "[432 rows x 1 columns]"
      ],
      "text/html": "<div>\n<style scoped>\n    .dataframe tbody tr th:only-of-type {\n        vertical-align: middle;\n    }\n\n    .dataframe tbody tr th {\n        vertical-align: top;\n    }\n\n    .dataframe thead th {\n        text-align: right;\n    }\n</style>\n<table border=\"1\" class=\"dataframe\">\n  <thead>\n    <tr style=\"text-align: right;\">\n      <th></th>\n      <th>계정과목</th>\n    </tr>\n    <tr>\n      <th>과목코드</th>\n      <th></th>\n    </tr>\n  </thead>\n  <tbody>\n    <tr>\n      <th>NaN</th>\n      <td>[D310000] 손익계산서, 기능별 분류 - 연결재무제표</td>\n    </tr>\n    <tr>\n      <th>ifrs-full_IncomeStatementAbstract</th>\n      <td>손익계산서 [abstract]</td>\n    </tr>\n    <tr>\n      <th>ifrs-full_Revenue</th>\n      <td>수익(매출액)</td>\n    </tr>\n    <tr>\n      <th>ifrs-full_RevenueFromSaleOfGoods</th>\n      <td>재화의 판매로 인한 수익(매출액)</td>\n    </tr>\n    <tr>\n      <th>dart_RevenueFromSaleOfGoodsProduct</th>\n      <td>제품매출액</td>\n    </tr>\n    <tr>\n      <th>...</th>\n      <td>...</td>\n    </tr>\n    <tr>\n      <th>ifrs-full_GainsLossesOnChangeInValueOfForwardElementsOfForwardContractsBeforeTax</th>\n      <td>선도계약의 선도요소 가치 변동손익(세전기타포괄손익)</td>\n    </tr>\n    <tr>\n      <th>ifrs-full_ReclassificationAdjustmentsOnChangeInValueOfForwardElementsOfForwardContractsBeforeTax</th>\n      <td>선도계약의 선도요소 가치 변동손익의 세전재분류조정</td>\n    </tr>\n    <tr>\n      <th>ifrs-full_GainsLossesOnChangeInValueOfForeignCurrencyBasisSpreadsBeforeTax</th>\n      <td>외화베이시스스프레드 변동 손익(세전기타포괄손익)</td>\n    </tr>\n    <tr>\n      <th>ifrs-full_ReclassificationAdjustmentsOnChangeInValueOfForeignCurrencyBasisSpreadsBeforeTax</th>\n      <td>외화베이시스스프레드 변동 손익의 세전재분류조정</td>\n    </tr>\n    <tr>\n      <th>dart_IncomeTaxRelatingToComponentsOfOtherComprehensiveIncomeThatWillBeReclassifiedToProfitOrLoss</th>\n      <td>당기손익으로 재분류될수 있는 항목과 관련된 법인세</td>\n    </tr>\n  </tbody>\n</table>\n<p>432 rows × 1 columns</p>\n</div>"
     },
     "metadata": {},
     "execution_count": 143
    }
   ],
   "source": [
    "qt"
   ]
  },
  {
   "cell_type": "code",
   "execution_count": 63,
   "metadata": {},
   "outputs": [],
   "source": [
    "df = [pd.read_csv(f'ab/{i}', sep='\\t', encoding='cp949') for i in file_list]"
   ]
  },
  {
   "cell_type": "code",
   "execution_count": 64,
   "metadata": {},
   "outputs": [],
   "source": [
    "rf = pd.concat(df)"
   ]
  },
  {
   "source": [
    "rf"
   ],
   "cell_type": "markdown",
   "metadata": {}
  },
  {
   "cell_type": "code",
   "execution_count": 68,
   "metadata": {},
   "outputs": [],
   "source": [
    "ef = rf[['항목코드', '항목명']]"
   ]
  },
  {
   "cell_type": "code",
   "execution_count": 71,
   "metadata": {},
   "outputs": [],
   "source": [
    "of = ef.drop_duplicates('항목명')"
   ]
  },
  {
   "cell_type": "code",
   "execution_count": 77,
   "metadata": {},
   "outputs": [],
   "source": [
    "pf=pd.read_excel('계정과목.xlsx')"
   ]
  },
  {
   "cell_type": "code",
   "execution_count": 86,
   "metadata": {},
   "outputs": [],
   "source": [
    "qf = pd.concat([of,pf])"
   ]
  },
  {
   "cell_type": "code",
   "execution_count": 83,
   "metadata": {},
   "outputs": [
    {
     "output_type": "error",
     "ename": "KeyError",
     "evalue": "('과목코드', '계정과목')",
     "traceback": [
      "\u001b[1;31m---------------------------------------------------------------------------\u001b[0m",
      "\u001b[1;31mKeyError\u001b[0m                                  Traceback (most recent call last)",
      "\u001b[1;32mD:\\123\\lib\\site-packages\\pandas\\core\\indexes\\base.py\u001b[0m in \u001b[0;36mget_loc\u001b[1;34m(self, key, method, tolerance)\u001b[0m\n\u001b[0;32m   2645\u001b[0m             \u001b[1;32mtry\u001b[0m\u001b[1;33m:\u001b[0m\u001b[1;33m\u001b[0m\u001b[1;33m\u001b[0m\u001b[0m\n\u001b[1;32m-> 2646\u001b[1;33m                 \u001b[1;32mreturn\u001b[0m \u001b[0mself\u001b[0m\u001b[1;33m.\u001b[0m\u001b[0m_engine\u001b[0m\u001b[1;33m.\u001b[0m\u001b[0mget_loc\u001b[0m\u001b[1;33m(\u001b[0m\u001b[0mkey\u001b[0m\u001b[1;33m)\u001b[0m\u001b[1;33m\u001b[0m\u001b[1;33m\u001b[0m\u001b[0m\n\u001b[0m\u001b[0;32m   2647\u001b[0m             \u001b[1;32mexcept\u001b[0m \u001b[0mKeyError\u001b[0m\u001b[1;33m:\u001b[0m\u001b[1;33m\u001b[0m\u001b[1;33m\u001b[0m\u001b[0m\n",
      "\u001b[1;32mpandas\\_libs\\index.pyx\u001b[0m in \u001b[0;36mpandas._libs.index.IndexEngine.get_loc\u001b[1;34m()\u001b[0m\n",
      "\u001b[1;32mpandas\\_libs\\index.pyx\u001b[0m in \u001b[0;36mpandas._libs.index.IndexEngine.get_loc\u001b[1;34m()\u001b[0m\n",
      "\u001b[1;32mpandas\\_libs\\hashtable_class_helper.pxi\u001b[0m in \u001b[0;36mpandas._libs.hashtable.PyObjectHashTable.get_item\u001b[1;34m()\u001b[0m\n",
      "\u001b[1;32mpandas\\_libs\\hashtable_class_helper.pxi\u001b[0m in \u001b[0;36mpandas._libs.hashtable.PyObjectHashTable.get_item\u001b[1;34m()\u001b[0m\n",
      "\u001b[1;31mKeyError\u001b[0m: ('과목코드', '계정과목')",
      "\nDuring handling of the above exception, another exception occurred:\n",
      "\u001b[1;31mKeyError\u001b[0m                                  Traceback (most recent call last)",
      "\u001b[1;32m<ipython-input-83-8e043d0c3a63>\u001b[0m in \u001b[0;36m<module>\u001b[1;34m\u001b[0m\n\u001b[1;32m----> 1\u001b[1;33m \u001b[0mof\u001b[0m\u001b[1;33m[\u001b[0m\u001b[1;34m'과목코드'\u001b[0m\u001b[1;33m,\u001b[0m \u001b[1;34m'계정과목'\u001b[0m\u001b[1;33m]\u001b[0m\u001b[1;33m\u001b[0m\u001b[1;33m\u001b[0m\u001b[0m\n\u001b[0m",
      "\u001b[1;32mD:\\123\\lib\\site-packages\\pandas\\core\\frame.py\u001b[0m in \u001b[0;36m__getitem__\u001b[1;34m(self, key)\u001b[0m\n\u001b[0;32m   2798\u001b[0m             \u001b[1;32mif\u001b[0m \u001b[0mself\u001b[0m\u001b[1;33m.\u001b[0m\u001b[0mcolumns\u001b[0m\u001b[1;33m.\u001b[0m\u001b[0mnlevels\u001b[0m \u001b[1;33m>\u001b[0m \u001b[1;36m1\u001b[0m\u001b[1;33m:\u001b[0m\u001b[1;33m\u001b[0m\u001b[1;33m\u001b[0m\u001b[0m\n\u001b[0;32m   2799\u001b[0m                 \u001b[1;32mreturn\u001b[0m \u001b[0mself\u001b[0m\u001b[1;33m.\u001b[0m\u001b[0m_getitem_multilevel\u001b[0m\u001b[1;33m(\u001b[0m\u001b[0mkey\u001b[0m\u001b[1;33m)\u001b[0m\u001b[1;33m\u001b[0m\u001b[1;33m\u001b[0m\u001b[0m\n\u001b[1;32m-> 2800\u001b[1;33m             \u001b[0mindexer\u001b[0m \u001b[1;33m=\u001b[0m \u001b[0mself\u001b[0m\u001b[1;33m.\u001b[0m\u001b[0mcolumns\u001b[0m\u001b[1;33m.\u001b[0m\u001b[0mget_loc\u001b[0m\u001b[1;33m(\u001b[0m\u001b[0mkey\u001b[0m\u001b[1;33m)\u001b[0m\u001b[1;33m\u001b[0m\u001b[1;33m\u001b[0m\u001b[0m\n\u001b[0m\u001b[0;32m   2801\u001b[0m             \u001b[1;32mif\u001b[0m \u001b[0mis_integer\u001b[0m\u001b[1;33m(\u001b[0m\u001b[0mindexer\u001b[0m\u001b[1;33m)\u001b[0m\u001b[1;33m:\u001b[0m\u001b[1;33m\u001b[0m\u001b[1;33m\u001b[0m\u001b[0m\n\u001b[0;32m   2802\u001b[0m                 \u001b[0mindexer\u001b[0m \u001b[1;33m=\u001b[0m \u001b[1;33m[\u001b[0m\u001b[0mindexer\u001b[0m\u001b[1;33m]\u001b[0m\u001b[1;33m\u001b[0m\u001b[1;33m\u001b[0m\u001b[0m\n",
      "\u001b[1;32mD:\\123\\lib\\site-packages\\pandas\\core\\indexes\\base.py\u001b[0m in \u001b[0;36mget_loc\u001b[1;34m(self, key, method, tolerance)\u001b[0m\n\u001b[0;32m   2646\u001b[0m                 \u001b[1;32mreturn\u001b[0m \u001b[0mself\u001b[0m\u001b[1;33m.\u001b[0m\u001b[0m_engine\u001b[0m\u001b[1;33m.\u001b[0m\u001b[0mget_loc\u001b[0m\u001b[1;33m(\u001b[0m\u001b[0mkey\u001b[0m\u001b[1;33m)\u001b[0m\u001b[1;33m\u001b[0m\u001b[1;33m\u001b[0m\u001b[0m\n\u001b[0;32m   2647\u001b[0m             \u001b[1;32mexcept\u001b[0m \u001b[0mKeyError\u001b[0m\u001b[1;33m:\u001b[0m\u001b[1;33m\u001b[0m\u001b[1;33m\u001b[0m\u001b[0m\n\u001b[1;32m-> 2648\u001b[1;33m                 \u001b[1;32mreturn\u001b[0m \u001b[0mself\u001b[0m\u001b[1;33m.\u001b[0m\u001b[0m_engine\u001b[0m\u001b[1;33m.\u001b[0m\u001b[0mget_loc\u001b[0m\u001b[1;33m(\u001b[0m\u001b[0mself\u001b[0m\u001b[1;33m.\u001b[0m\u001b[0m_maybe_cast_indexer\u001b[0m\u001b[1;33m(\u001b[0m\u001b[0mkey\u001b[0m\u001b[1;33m)\u001b[0m\u001b[1;33m)\u001b[0m\u001b[1;33m\u001b[0m\u001b[1;33m\u001b[0m\u001b[0m\n\u001b[0m\u001b[0;32m   2649\u001b[0m         \u001b[0mindexer\u001b[0m \u001b[1;33m=\u001b[0m \u001b[0mself\u001b[0m\u001b[1;33m.\u001b[0m\u001b[0mget_indexer\u001b[0m\u001b[1;33m(\u001b[0m\u001b[1;33m[\u001b[0m\u001b[0mkey\u001b[0m\u001b[1;33m]\u001b[0m\u001b[1;33m,\u001b[0m \u001b[0mmethod\u001b[0m\u001b[1;33m=\u001b[0m\u001b[0mmethod\u001b[0m\u001b[1;33m,\u001b[0m \u001b[0mtolerance\u001b[0m\u001b[1;33m=\u001b[0m\u001b[0mtolerance\u001b[0m\u001b[1;33m)\u001b[0m\u001b[1;33m\u001b[0m\u001b[1;33m\u001b[0m\u001b[0m\n\u001b[0;32m   2650\u001b[0m         \u001b[1;32mif\u001b[0m \u001b[0mindexer\u001b[0m\u001b[1;33m.\u001b[0m\u001b[0mndim\u001b[0m \u001b[1;33m>\u001b[0m \u001b[1;36m1\u001b[0m \u001b[1;32mor\u001b[0m \u001b[0mindexer\u001b[0m\u001b[1;33m.\u001b[0m\u001b[0msize\u001b[0m \u001b[1;33m>\u001b[0m \u001b[1;36m1\u001b[0m\u001b[1;33m:\u001b[0m\u001b[1;33m\u001b[0m\u001b[1;33m\u001b[0m\u001b[0m\n",
      "\u001b[1;32mpandas\\_libs\\index.pyx\u001b[0m in \u001b[0;36mpandas._libs.index.IndexEngine.get_loc\u001b[1;34m()\u001b[0m\n",
      "\u001b[1;32mpandas\\_libs\\index.pyx\u001b[0m in \u001b[0;36mpandas._libs.index.IndexEngine.get_loc\u001b[1;34m()\u001b[0m\n",
      "\u001b[1;32mpandas\\_libs\\hashtable_class_helper.pxi\u001b[0m in \u001b[0;36mpandas._libs.hashtable.PyObjectHashTable.get_item\u001b[1;34m()\u001b[0m\n",
      "\u001b[1;32mpandas\\_libs\\hashtable_class_helper.pxi\u001b[0m in \u001b[0;36mpandas._libs.hashtable.PyObjectHashTable.get_item\u001b[1;34m()\u001b[0m\n",
      "\u001b[1;31mKeyError\u001b[0m: ('과목코드', '계정과목')"
     ]
    }
   ],
   "source": [
    "        "
   ]
  },
  {
   "cell_type": "code",
   "execution_count": 84,
   "metadata": {},
   "outputs": [],
   "source": [
    "of.columns=['과목코드', '계정과목']"
   ]
  },
  {
   "cell_type": "code",
   "execution_count": 94,
   "metadata": {},
   "outputs": [],
   "source": [
    "qf.drop_duplicates('계정과목', inplace=True)"
   ]
  },
  {
   "cell_type": "code",
   "execution_count": 98,
   "metadata": {},
   "outputs": [],
   "source": [
    "qf['계정과목'] = qf['계정과목'].str.replace(' ', '')"
   ]
  },
  {
   "cell_type": "code",
   "execution_count": 102,
   "metadata": {},
   "outputs": [],
   "source": [
    "ef = qf[~qf['과목코드'].str.contains(r'^e')]"
   ]
  },
  {
   "cell_type": "code",
   "execution_count": 104,
   "metadata": {},
   "outputs": [],
   "source": [
    "ef.to_excel('계정과목.xlsx', index=False)"
   ]
  },
  {
   "cell_type": "code",
   "execution_count": 111,
   "metadata": {},
   "outputs": [],
   "source": [
    "ef.sort_values('과목코드').to_excel('계정과목.xlsx', index=False)"
   ]
  },
  {
   "cell_type": "code",
   "execution_count": 129,
   "metadata": {},
   "outputs": [],
   "source": [
    "modify =pd.read_excel('계정과목.xlsx')\n"
   ]
  },
  {
   "cell_type": "code",
   "execution_count": 131,
   "metadata": {},
   "outputs": [],
   "source": [
    "ef = modify.drop_duplicates('항목명')"
   ]
  },
  {
   "cell_type": "code",
   "execution_count": 133,
   "metadata": {},
   "outputs": [],
   "source": [
    "ef.to_excel('계정과목.xlsx', index=False)"
   ]
  },
  {
   "cell_type": "code",
   "execution_count": 127,
   "metadata": {},
   "outputs": [],
   "source": [
    "df.update(modify)"
   ]
  },
  {
   "cell_type": "code",
   "execution_count": 128,
   "metadata": {},
   "outputs": [
    {
     "output_type": "execute_result",
     "data": {
      "text/plain": [
       "   a\n",
       "1  1"
      ],
      "text/html": "<div>\n<style scoped>\n    .dataframe tbody tr th:only-of-type {\n        vertical-align: middle;\n    }\n\n    .dataframe tbody tr th {\n        vertical-align: top;\n    }\n\n    .dataframe thead th {\n        text-align: right;\n    }\n</style>\n<table border=\"1\" class=\"dataframe\">\n  <thead>\n    <tr style=\"text-align: right;\">\n      <th></th>\n      <th>a</th>\n    </tr>\n  </thead>\n  <tbody>\n    <tr>\n      <th>1</th>\n      <td>1</td>\n    </tr>\n  </tbody>\n</table>\n</div>"
     },
     "metadata": {},
     "execution_count": 128
    }
   ],
   "source": [
    "df"
   ]
  },
  {
   "cell_type": "code",
   "execution_count": 137,
   "metadata": {},
   "outputs": [],
   "source": [
    "modify['항목코드']=modify['항목코드'].str.replace('ifrs_', 'ifrs-full_')"
   ]
  },
  {
   "cell_type": "code",
   "execution_count": 138,
   "metadata": {},
   "outputs": [],
   "source": [
    "modify.to_excel('계정과목2.xlsx', index=False)"
   ]
  },
  {
   "cell_type": "code",
   "execution_count": 139,
   "metadata": {},
   "outputs": [
    {
     "output_type": "execute_result",
     "data": {
      "text/plain": [
       "                                                   항목코드            항목명\n",
       "0                    dart_AcademicInvestigationExpenses          도서신문비\n",
       "1                    dart_AcademicInvestigationExpenses            학술비\n",
       "2     dart_AdministrativeExpensesForUnsoldHouseAndOf...       미분양주택관리비\n",
       "3     dart_AdministrativeExpensesForUnsoldHouseAndOf...       미분양주택관리비\n",
       "4                        dart_AdvertisementAgentExpense          광고대행료\n",
       "...                                                 ...            ...\n",
       "5602  ifrs-full_ShareOfProfitLossOfAssociatesAndJoin...       관계회사투자손실\n",
       "5603  ifrs-full_ShareOfProfitLossOfAssociatesAndJoin...  공동기업지분법이익(손실)\n",
       "5604            ifrs-full_SharebasedPaymentTransactions     주식보상비용(환입)\n",
       "5605                         ifrs-full_WagesAndSalaries             급여\n",
       "5606                         ifrs-full_WagesAndSalaries             임금\n",
       "\n",
       "[5607 rows x 2 columns]"
      ],
      "text/html": "<div>\n<style scoped>\n    .dataframe tbody tr th:only-of-type {\n        vertical-align: middle;\n    }\n\n    .dataframe tbody tr th {\n        vertical-align: top;\n    }\n\n    .dataframe thead th {\n        text-align: right;\n    }\n</style>\n<table border=\"1\" class=\"dataframe\">\n  <thead>\n    <tr style=\"text-align: right;\">\n      <th></th>\n      <th>항목코드</th>\n      <th>항목명</th>\n    </tr>\n  </thead>\n  <tbody>\n    <tr>\n      <th>0</th>\n      <td>dart_AcademicInvestigationExpenses</td>\n      <td>도서신문비</td>\n    </tr>\n    <tr>\n      <th>1</th>\n      <td>dart_AcademicInvestigationExpenses</td>\n      <td>학술비</td>\n    </tr>\n    <tr>\n      <th>2</th>\n      <td>dart_AdministrativeExpensesForUnsoldHouseAndOf...</td>\n      <td>미분양주택관리비</td>\n    </tr>\n    <tr>\n      <th>3</th>\n      <td>dart_AdministrativeExpensesForUnsoldHouseAndOf...</td>\n      <td>미분양주택관리비</td>\n    </tr>\n    <tr>\n      <th>4</th>\n      <td>dart_AdvertisementAgentExpense</td>\n      <td>광고대행료</td>\n    </tr>\n    <tr>\n      <th>...</th>\n      <td>...</td>\n      <td>...</td>\n    </tr>\n    <tr>\n      <th>5602</th>\n      <td>ifrs-full_ShareOfProfitLossOfAssociatesAndJoin...</td>\n      <td>관계회사투자손실</td>\n    </tr>\n    <tr>\n      <th>5603</th>\n      <td>ifrs-full_ShareOfProfitLossOfAssociatesAndJoin...</td>\n      <td>공동기업지분법이익(손실)</td>\n    </tr>\n    <tr>\n      <th>5604</th>\n      <td>ifrs-full_SharebasedPaymentTransactions</td>\n      <td>주식보상비용(환입)</td>\n    </tr>\n    <tr>\n      <th>5605</th>\n      <td>ifrs-full_WagesAndSalaries</td>\n      <td>급여</td>\n    </tr>\n    <tr>\n      <th>5606</th>\n      <td>ifrs-full_WagesAndSalaries</td>\n      <td>임금</td>\n    </tr>\n  </tbody>\n</table>\n<p>5607 rows × 2 columns</p>\n</div>"
     },
     "metadata": {},
     "execution_count": 139
    }
   ],
   "source": [
    "modify"
   ]
  },
  {
   "cell_type": "code",
   "execution_count": 141,
   "metadata": {},
   "outputs": [],
   "source": [
    "modify.drop_duplicates('항목명').to_excel('계정과목3.xlsx', index=False)"
   ]
  },
  {
   "cell_type": "code",
   "execution_count": 147,
   "metadata": {},
   "outputs": [],
   "source": [
    "ifrsmodify =pd.read_excel('ifrs계정과목.xlsx')\n",
    "ifrsmodify.set_index('항목코드', inplace=True)"
   ]
  },
  {
   "cell_type": "code",
   "execution_count": 148,
   "metadata": {},
   "outputs": [
    {
     "output_type": "execute_result",
     "data": {
      "text/plain": [
       "                                                                             항목명\n",
       "항목코드                                                                            \n",
       "ifrs-full_IncomeStatementAbstract                               손익계산서 [abstract]\n",
       "ifrs-full_Revenue                                                        수익(매출액)\n",
       "ifrs-full_RevenueFromSaleOfGoods                              재화의 판매로 인한 수익(매출액)\n",
       "dart_RevenueFromSaleOfGoodsProduct                                         제품매출액\n",
       "dart_RevenueFromSaleOfGoodsMerchandise                                     상품매출액\n",
       "...                                                                          ...\n",
       "ifrs-full_GainsLossesOnChangeInValueOfForwardEl...  선도계약의 선도요소 가치 변동손익(세전기타포괄손익)\n",
       "ifrs-full_ReclassificationAdjustmentsOnChangeIn...   선도계약의 선도요소 가치 변동손익의 세전재분류조정\n",
       "ifrs-full_GainsLossesOnChangeInValueOfForeignCu...    외화베이시스스프레드 변동 손익(세전기타포괄손익)\n",
       "ifrs-full_ReclassificationAdjustmentsOnChangeIn...     외화베이시스스프레드 변동 손익의 세전재분류조정\n",
       "dart_IncomeTaxRelatingToComponentsOfOtherCompre...   당기손익으로 재분류될수 있는 항목과 관련된 법인세\n",
       "\n",
       "[431 rows x 1 columns]"
      ],
      "text/html": "<div>\n<style scoped>\n    .dataframe tbody tr th:only-of-type {\n        vertical-align: middle;\n    }\n\n    .dataframe tbody tr th {\n        vertical-align: top;\n    }\n\n    .dataframe thead th {\n        text-align: right;\n    }\n</style>\n<table border=\"1\" class=\"dataframe\">\n  <thead>\n    <tr style=\"text-align: right;\">\n      <th></th>\n      <th>항목명</th>\n    </tr>\n    <tr>\n      <th>항목코드</th>\n      <th></th>\n    </tr>\n  </thead>\n  <tbody>\n    <tr>\n      <th>ifrs-full_IncomeStatementAbstract</th>\n      <td>손익계산서 [abstract]</td>\n    </tr>\n    <tr>\n      <th>ifrs-full_Revenue</th>\n      <td>수익(매출액)</td>\n    </tr>\n    <tr>\n      <th>ifrs-full_RevenueFromSaleOfGoods</th>\n      <td>재화의 판매로 인한 수익(매출액)</td>\n    </tr>\n    <tr>\n      <th>dart_RevenueFromSaleOfGoodsProduct</th>\n      <td>제품매출액</td>\n    </tr>\n    <tr>\n      <th>dart_RevenueFromSaleOfGoodsMerchandise</th>\n      <td>상품매출액</td>\n    </tr>\n    <tr>\n      <th>...</th>\n      <td>...</td>\n    </tr>\n    <tr>\n      <th>ifrs-full_GainsLossesOnChangeInValueOfForwardElementsOfForwardContractsBeforeTax</th>\n      <td>선도계약의 선도요소 가치 변동손익(세전기타포괄손익)</td>\n    </tr>\n    <tr>\n      <th>ifrs-full_ReclassificationAdjustmentsOnChangeInValueOfForwardElementsOfForwardContractsBeforeTax</th>\n      <td>선도계약의 선도요소 가치 변동손익의 세전재분류조정</td>\n    </tr>\n    <tr>\n      <th>ifrs-full_GainsLossesOnChangeInValueOfForeignCurrencyBasisSpreadsBeforeTax</th>\n      <td>외화베이시스스프레드 변동 손익(세전기타포괄손익)</td>\n    </tr>\n    <tr>\n      <th>ifrs-full_ReclassificationAdjustmentsOnChangeInValueOfForeignCurrencyBasisSpreadsBeforeTax</th>\n      <td>외화베이시스스프레드 변동 손익의 세전재분류조정</td>\n    </tr>\n    <tr>\n      <th>dart_IncomeTaxRelatingToComponentsOfOtherComprehensiveIncomeThatWillBeReclassifiedToProfitOrLoss</th>\n      <td>당기손익으로 재분류될수 있는 항목과 관련된 법인세</td>\n    </tr>\n  </tbody>\n</table>\n<p>431 rows × 1 columns</p>\n</div>"
     },
     "metadata": {},
     "execution_count": 148
    }
   ],
   "source": [
    "ifrsmodify"
   ]
  },
  {
   "cell_type": "code",
   "execution_count": null,
   "metadata": {},
   "outputs": [],
   "source": []
  }
 ]
}